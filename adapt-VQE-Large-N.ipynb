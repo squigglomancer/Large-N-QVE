{
 "cells": [
  {
   "cell_type": "markdown",
   "id": "ef2696d1",
   "metadata": {},
   "source": [
    "# Adapt VQE\n",
    "\n",
    "The goal is to perform a variational preparation of the ground state of the large-N (1,2,1) Hamiltonian\n",
    "\n",
    "$$ H_E =  g^2 \\left( N_c - \\frac{1}{N_c} \\right)\\left[ \\sum_p  P_{1,p} - \\frac{1}{2}\\sum_p \\sum_{\\hat{n}} P_{1,p} P_{1,p+\\hat{n}} \\right] $$\n",
    "\n",
    "$$ H_B = -\\frac{1}{\\sqrt{2}g^2} \\sum_{p} \\left( \\prod_{\\hat{n}} P_{0,p+\\hat{n}} \\right) X_p - \\frac{1}{2g^2 N_c} \\sum_{p} \\sum_{\\hat{k}} P_{1,p+\\hat{k}} \\left( \\prod_{\\hat{n}\\neq\\hat{k}} P_{0,p+\\hat{n}} \\right) X_p $$\n",
    "\n",
    "where $P_0 = |0\\rangle\\langle 0|$ and $P_1 = |1\\rangle\\langle 1 |$, where the sum over $\\hat{n}$ is a sum over lattice unit vectors.\n",
    "\n",
    "The algorithm of choice will be ADAPT-VQE.\n",
    "\n",
    "### Operator pool\n",
    "\n",
    "The pool of operators is constrained by the symmetries of the ground state and the types of interactions in the Hamiltonian. With periodic boundary conditions, the Hamiltonian is translation invariant. In addition, we must respect CP symmetry and (as a result of CPT invariance) T symmetry. Because of T symmetry, the ground state wave function should be real. We will start with the most local operators, and add increasingly non-local operators until the ansatz is expressive enough to get errors below our tolerence.\n",
    "\n",
    "To start off with, the operator pool will be:\n",
    "\n",
    "$$ \\{ \"P_0 P_0 P_0 P_0 Y\", \"P_0 P_0 P_0 P_1 Y\" \\}. $$\n",
    "\n",
    "These operators in quotation marks are shorthand for the operators that make up the magnetic Hamiltonian, except with $X$ swapped out for $Y$ in order to make the wave function real. More operators can be added later if the performance is not good enough."
   ]
  },
  {
   "cell_type": "markdown",
   "id": "08a6187a",
   "metadata": {},
   "source": []
  },
  {
   "cell_type": "code",
   "execution_count": null,
   "id": "62d7833b",
   "metadata": {},
   "outputs": [],
   "source": [
    "import numpy as np\n",
    "import scipy as sp\n",
    "from scipy import sparse\n",
    "import matplotlib.pyplot as plt\n",
    "import random"
   ]
  },
  {
   "cell_type": "markdown",
   "id": "7d2f12c6",
   "metadata": {},
   "source": [
    "## Code for creating the Hamiltonian"
   ]
  },
  {
   "cell_type": "code",
   "execution_count": 83,
   "id": "b1613b89",
   "metadata": {},
   "outputs": [],
   "source": [
    "'''''''''''''''''''''''''''''''''''''''''''''''''''''''''''''''''''''''''''''''''''''''''''''''''''''''''''''''''\n",
    "Define functions that implements the operators in the Hamiltonian.\n",
    "Want to work with sparse matrices.\n",
    "'''''''''''''''''''''''''''''''''''''''''''''''''''''''''''''''''''''''''''''''''''''''''''''''''''''''''''''''''\n",
    "\n",
    "# Create the one-qubit operations\n",
    "Id =  sparse.csc_matrix(np.array([[1.,0.],[0.,1.]]))\n",
    "P1 = sparse.csc_matrix(np.array([[0., 0.],[0., 1.]]))\n",
    "P0 = sparse.csc_matrix(np.array([[1.,0.],[0.,0.]]))\n",
    "Xop = sparse.csc_matrix(np.array([[0.,1.],[1.,0.]]))\n",
    "Yop = sparse.csc_matrix(np.array([[0.,-1.j],[1.j,0.]]))\n",
    "\n",
    "\n",
    "'''''''''''''''''''''''''''''''''''''''''''''''''''''''''''''''''''''''''''''''''''''''''''''''''''''''''''''''''\n",
    "A function that acts with a one-qubit operator on a specified qubit. So, it takes in a 2x2 matrix and spits out a 2^n x 2^n matrix.\n",
    "'''''''''''''''''''''''''''''''''''''''''''''''''''''''''''''''''''''''''''''''''''''''''''''''''''''''''''''''''\n",
    "\n",
    "def one_qubit_gate( \n",
    "    M: sparse._csc.csc_matrix, \n",
    "    p: int, \n",
    "    n: int\n",
    "    ) -> sparse._csc.csc_matrix:\n",
    "    if (M.shape != (2,2)):\n",
    "        print('Warning: Expected M argument to be a 2x2 sparse matrix.')\n",
    "    if ( p<0 or p>=n ):\n",
    "        print(f'Warning: Expected p argument to be within the range [0, {n}-1] inclusive.')\n",
    "\n",
    "    result = sparse.eye(1, format='csc') # create a sparse 1x1 matrix to store result\n",
    "    for i in range(n):\n",
    "        if (i==p):\n",
    "            result = sparse.kron(result, M, format='csc')\n",
    "        else:\n",
    "            result =sparse.kron(result, Id, format='csc')  \n",
    "    return result\n",
    "\n",
    "\n",
    "'''''''''''''''''''''''''''''''''''''''''''''''''''''''''''''''''''''''''''''''''''''''''''''''''''''''''''''''''\n",
    "    Define a function that returns an n-qubit gate that is in the form of a tensor product of single qubit gates.\n",
    "\n",
    "    Expects the dictionary op_dict to be of the form { p1: M1, p2: M2, p3: M3 } where the p's are integers specifying\n",
    "    qubits and the M's are 2x2 matrices in sparse format specifying one-qubit gates.\n",
    "'''''''''''''''''''''''''''''''''''''''''''''''''''''''''''''''''''''''''''''''''''''''''''''''''''''''''''''''''\n",
    "\n",
    "def multi_qubit_gate(\n",
    "    op_dict: dict, \n",
    "    n: int\n",
    "    ) -> sparse._csc.csc_matrix:\n",
    "    result = sparse.eye(1, format='csc') # Create a 1x1 in sparse format to build our operator\n",
    "    for i in range(n):\n",
    "        if i in op_dict:\n",
    "            result =sparse.kron(result, op_dict[i], format='csc')\n",
    "        else:\n",
    "            result =sparse.kron(result, Id, format='csc')\n",
    "    return result\n",
    "\n",
    "\n",
    "'''''''''''''''''''''''''''''''''''''''''''''''''''''''''''''''''''''''''''''''''''''''''''''''''''''''''''''''''\n",
    "Convert between the single-index p which enumerates qubits, and double-index (i,j) which enumerates lattice sites\n",
    "'''''''''''''''''''''''''''''''''''''''''''''''''''''''''''''''''''''''''''''''''''''''''''''''''''''''''''''''''\n",
    "\n",
    "def map_to_circuit( i, j, L, H ):\n",
    "    if i >= L:\n",
    "        print(f\"[map_to_circuit] i index out of bounds: expected i<{L}, but i={i}\")\n",
    "    if j >= H:\n",
    "        print(f\"[map_to_circuit] j index out of bounds, expected j<{H}, but j={j}\")\n",
    "    \n",
    "    return j*L + i\n",
    "\n",
    "\n",
    "def map_to_lattice( p, L, H ):\n",
    "    if p >= (L*H):\n",
    "        print(f\"[map_to_lattice] p index out of bounds, expected p<{L*H}, but p={p}\")\n",
    "\n",
    "    return p % L, p // L\n",
    "\n",
    "# A function that applies the specified operator to every qubit in the lattice, and then returns the resulting matrix\n",
    "def sigma(op_name, lat_shape, boundary='periodic'):\n",
    "    L = lat_shape[0]\n",
    "    H = lat_shape[1]\n",
    "    n = L*H\n",
    "\n",
    "    op = sparse.csc_matrix((2**n, 2**n))\n",
    "\n",
    "    if boundary == \"periodic\":\n",
    "\n",
    "        if op_name == \"P1\":\n",
    "            for p in range(n):\n",
    "                op += one_qubit_gate(P1, p, n)\n",
    "\n",
    "        elif op_name == \"P1P1\":\n",
    "            for p in range(n):\n",
    "                i, j = map_to_lattice(p, L, H)\n",
    "                nr   = map_to_circuit((i + 1) % L, j, L, H)\n",
    "                nu   = map_to_circuit(i, (j + 1) % H, L, H)\n",
    "                op = multi_qubit_gate( {p: P1, nr: P1}, n )\n",
    "                op = multi_qubit_gate( {p: P1, nu: P1}, n )\n",
    "\n",
    "        elif op_name == \"P0P0P0P0X\":\n",
    "            for p in range(n):\n",
    "                i, j = map_to_lattice(p, L, H)\n",
    "                nl   = map_to_circuit((i - 1) % L, j, L, H)\n",
    "                nd   = map_to_circuit(i, (j - 1) % H, L, H)\n",
    "                nr   = map_to_circuit((i + 1) % L, j, L, H)\n",
    "                nu   = map_to_circuit(i, (j + 1) % H, L, H)\n",
    "                op += multi_qubit_gate( {p: Xop, nl: P0, nd: P0, nr: P0, nu: P0}, n )\n",
    "\n",
    "        elif op_name == \"P0P0P0P1X\":\n",
    "            for p in range(n):\n",
    "                i, j = map_to_lattice(p, L, H)\n",
    "                nl   = map_to_circuit((i - 1) % L, j, L, H)\n",
    "                nd   = map_to_circuit(i, (j - 1) % H, L, H)\n",
    "                nr   = map_to_circuit((i + 1) % L, j, L, H)\n",
    "                nu   = map_to_circuit(i, (j + 1) % H, L, H)\n",
    "                op += multi_qubit_gate( {p: Xop, nl: P1, nd: P0, nr: P0, nu: P0}, n )\n",
    "                op += multi_qubit_gate( {p: Xop, nl: P0, nd: P1, nr: P0, nu: P0}, n )\n",
    "                op += multi_qubit_gate( {p: Xop, nl: P0, nd: P0, nr: P1, nu: P0}, n )\n",
    "                op += multi_qubit_gate( {p: Xop, nl: P0, nd: P0, nr: P0, nu: P1}, n )\n",
    "        \n",
    "        elif op_name == \"P0P0P0P0Y\":\n",
    "            for p in range(n):\n",
    "                i, j = map_to_lattice(p, L, H)\n",
    "                nl   = map_to_circuit((i - 1) % L, j, L, H)\n",
    "                nd   = map_to_circuit(i, (j - 1) % H, L, H)\n",
    "                nr   = map_to_circuit((i + 1) % L, j, L, H)\n",
    "                nu   = map_to_circuit(i, (j + 1) % H, L, H)\n",
    "                op += multi_qubit_gate( {p: Yop, nl: P0, nd: P0, nr: P0, nu: P0}, n )\n",
    "        \n",
    "        elif op_name == \"P0P0P0P1Y\":\n",
    "            for p in range(n):\n",
    "                i, j = map_to_lattice(p, L, H)\n",
    "                nl   = map_to_circuit((i - 1) % L, j, L, H)\n",
    "                nd   = map_to_circuit(i, (j - 1) % H, L, H)\n",
    "                nr   = map_to_circuit((i + 1) % L, j, L, H)\n",
    "                nu   = map_to_circuit(i, (j + 1) % H, L, H)\n",
    "                op += multi_qubit_gate( {p: Yop, nl: P1, nd: P0, nr: P0, nu: P0}, n )\n",
    "                op += multi_qubit_gate( {p: Yop, nl: P0, nd: P1, nr: P0, nu: P0}, n )\n",
    "                op += multi_qubit_gate( {p: Yop, nl: P0, nd: P0, nr: P1, nu: P0}, n )\n",
    "                op += multi_qubit_gate( {p: Yop, nl: P0, nd: P0, nr: P0, nu: P1}, n )\n",
    "        else:\n",
    "            raise ValueError(f\"Unknown operator name: {op_name}\")\n",
    "    \n",
    "    elif boundary == \"open\":\n",
    "        raise NotImplementedError(\"Open boundary conditions not implemented yet.\")\n",
    "    \n",
    "    return op\n",
    "\n",
    "''''''''''''''''''''''''''''''''''''''''''''''''''''''''''''''''''''''''''''''''''''''''''''''''''''''''''''''''' \n",
    "Create a function that produces the Hamiltonian matrix\n",
    "'''''''''''''''''''''''''''''''''''''''''''''''''''''''''''''''''''''''''''''''''''''''''''''''''''''''''''''''''\n",
    "\n",
    "def make_electric_ham(\n",
    "    g: float, \n",
    "    lat_shape: list, \n",
    "    boundary: str = 'periodic', \n",
    "    N_colors: int = 3 \n",
    ") -> sparse._csc.csc_matrix:\n",
    "    \n",
    "    # Returns a sparse 2**n x 2**n matrix containing the diagonal part of the Hamiltonian\n",
    "    H_E = sigma('P1', lat_shape, boundary)\n",
    "    H_E -= 0.5 * sigma('P1P1', lat_shape, boundary)\n",
    "        \n",
    "    return (N_colors - 1/N_colors)*g*g * H_E\n",
    "\n",
    "\n",
    "\n",
    "def make_magnetic_ham(\n",
    "    g: float, \n",
    "    lat_shape: tuple, \n",
    "    boundary='periodic',\n",
    "    N_colors: int = 3\n",
    ") -> sparse._csc.csc_matrix:\n",
    "    \n",
    "    # Returns a sparse 2**n x 2**n matrix containing the magnetic part of the Hamiltonian\n",
    "    coeff1 = -np.sqrt(2)/(2*g*g)\n",
    "    coeff2 = -1/(2*g*g*N_colors)\n",
    "\n",
    "    H_B1 = sigma('P0P0P0P0X', lat_shape, boundary)\n",
    "    H_B2 = sigma('P0P0P0P1X', lat_shape, boundary)\n",
    "\n",
    "    H_B = coeff1 * H_B1  +   coeff2 * H_B2\n",
    "    \n",
    "    return H_B\n",
    "\n",
    "\n",
    "def make_ham(\n",
    "    g: float, \n",
    "    lat_shape: tuple, \n",
    "    boundary: str ='periodic',\n",
    "    N_colors: int =3\n",
    ") -> sparse._csc.csc_matrix:\n",
    "    \n",
    "    HE = make_electric_ham(g, lat_shape, boundary, N_colors)\n",
    "    HB = make_magnetic_ham(g, lat_shape, boundary, N_colors)\n",
    "    return HE + HB\n",
    "\n",
    "\n",
    "def get_ground_state_energy(g, lat_shape, boundary='periodic', N_colors=3):\n",
    "    H = make_ham(g, lat_shape, boundary, N_colors)\n",
    "    evals, evecs = sparse.linalg.eigsh( H, which='SA', k=1)\n",
    "    return evals[0]\n"
   ]
  },
  {
   "cell_type": "markdown",
   "id": "9778198a",
   "metadata": {},
   "source": [
    "## Ground state prep"
   ]
  },
  {
   "cell_type": "code",
   "execution_count": 84,
   "id": "76605675",
   "metadata": {},
   "outputs": [],
   "source": [
    "def get_operator_pool(op_names, lat_shape, boundary=\"periodic\"):\n",
    "    op_pool = [sigma(op_name, lat_shape, boundary) for op_name in op_names]\n",
    "    return op_pool"
   ]
  },
  {
   "cell_type": "code",
   "execution_count": 85,
   "id": "a4cd82df",
   "metadata": {},
   "outputs": [],
   "source": [
    "g = 1.\n",
    "lat_shape = (3,3)"
   ]
  },
  {
   "cell_type": "code",
   "execution_count": 86,
   "id": "b40a685e",
   "metadata": {},
   "outputs": [],
   "source": [
    "operator_pool = [sigma(\"P0P0P0P0Y\", lat_shape), sigma(\"P0P0P0P1Y\", lat_shape)]"
   ]
  },
  {
   "cell_type": "code",
   "execution_count": 87,
   "id": "6815439c",
   "metadata": {},
   "outputs": [],
   "source": [
    "imag_operator_pool = [op.imag for op in operator_pool]"
   ]
  },
  {
   "cell_type": "code",
   "execution_count": 88,
   "id": "ddf97920",
   "metadata": {},
   "outputs": [],
   "source": [
    "H = make_ham(g, lat_shape)\n",
    "H = H.real"
   ]
  },
  {
   "cell_type": "code",
   "execution_count": 89,
   "id": "0fe85539",
   "metadata": {},
   "outputs": [],
   "source": [
    "commutator_pool = [-(H @ op - op @ H) for op in imag_operator_pool]"
   ]
  },
  {
   "cell_type": "code",
   "execution_count": 90,
   "id": "a02df5fe",
   "metadata": {},
   "outputs": [],
   "source": [
    "def construct_electric_vac(lat_shape):\n",
    "    n = lat_shape[0]*lat_shape[1]\n",
    "    return sparse.csc_matrix( ([1] + [0]*(2**n - 1)) ).T"
   ]
  },
  {
   "cell_type": "code",
   "execution_count": 91,
   "id": "b8497dc5",
   "metadata": {},
   "outputs": [],
   "source": [
    "electric_vac = construct_electric_vac(lat_shape)"
   ]
  },
  {
   "cell_type": "code",
   "execution_count": 92,
   "id": "2e686c70",
   "metadata": {},
   "outputs": [],
   "source": [
    "def expectation_value(state, op):\n",
    "    return (state.T.conj() @ (op @ state)).sum().real"
   ]
  },
  {
   "cell_type": "code",
   "execution_count": 93,
   "id": "263470c2",
   "metadata": {},
   "outputs": [],
   "source": [
    "ips = np.array([expectation_value(electric_vac, op) for op in commutator_pool])"
   ]
  },
  {
   "cell_type": "code",
   "execution_count": 94,
   "id": "55db8392",
   "metadata": {},
   "outputs": [],
   "source": [
    "min_op = imag_operator_pool[random.choice(np.where(ips == np.max(np.abs(ips)))[0])] "
   ]
  },
  {
   "cell_type": "code",
   "execution_count": null,
   "id": "c1422a8a",
   "metadata": {},
   "outputs": [],
   "source": [
    "eps_vals = np.linspace(0, 1, 100)\n",
    "energies = []\n",
    "\n",
    "for i, eps in enumerate(eps_vals):\n",
    "    U = sp.sparse.linalg.expm( min_op * eps )\n",
    "    new_state = U @ electric_vac\n",
    "    energies.append( expectation_value(new_state, H) )"
   ]
  },
  {
   "cell_type": "code",
   "execution_count": 96,
   "id": "7de61a1c",
   "metadata": {},
   "outputs": [
    {
     "data": {
      "text/plain": [
       "[<matplotlib.lines.Line2D at 0x7fb7602b4850>]"
      ]
     },
     "execution_count": 96,
     "metadata": {},
     "output_type": "execute_result"
    },
    {
     "data": {
      "image/png": "[encoded data removed]",
      "text/plain": [
       "<Figure size 640x480 with 1 Axes>"
      ]
     },
     "metadata": {},
     "output_type": "display_data"
    }
   ],
   "source": [
    "# plot the energies\n",
    "plt.plot(eps_vals, energies)"
   ]
  },
  {
   "cell_type": "code",
   "execution_count": null,
   "id": "9de6d495",
   "metadata": {},
   "outputs": [],
   "source": [
    "def objective_function(eps):\n",
    "    U = sp.sparse.linalg.expm( min_op * eps[0] )\n",
    "    new_state = U @ electric_vac\n",
    "    return expectation_value(new_state, H)\n",
    "\n",
    "eps0 = [0]\n",
    "\n",
    "sol = sp.optimize.minimize(objective_function, eps0)"
   ]
  },
  {
   "cell_type": "code",
   "execution_count": 144,
   "id": "b0ce1620",
   "metadata": {},
   "outputs": [
    {
     "data": {
      "text/plain": [
       "      fun: -1.329970043327021\n",
       " hess_inv: array([[0.01402168]])\n",
       "      jac: array([1.78813934e-07])\n",
       "  message: 'Optimization terminated successfully.'\n",
       "     nfev: 12\n",
       "      nit: 4\n",
       "     njev: 6\n",
       "   status: 0\n",
       "  success: True\n",
       "        x: array([0.19690846])"
      ]
     },
     "execution_count": 144,
     "metadata": {},
     "output_type": "execute_result"
    }
   ],
   "source": [
    "sol"
   ]
  },
  {
   "cell_type": "markdown",
   "id": "6bd502be",
   "metadata": {},
   "source": [
    "## ADAPT-VQE Algorithm"
   ]
  },
  {
   "cell_type": "markdown",
   "id": "6af76cba",
   "metadata": {},
   "source": []
  },
  {
   "cell_type": "code",
   "execution_count": 121,
   "id": "e8b5ce8f",
   "metadata": {},
   "outputs": [],
   "source": [
    "'''Helper functions'''\n",
    "\n",
    "\n",
    "# These ones only require lattice size information\n",
    "\n",
    "def get_operator_pool(op_names, lat_shape, boundary=\"periodic\"):\n",
    "    op_pool = [sigma(op_name, lat_shape, boundary) for op_name in op_names]\n",
    "    return op_pool\n",
    "\n",
    "def get_imag_operator_pool(op_names, lat_shape, boundary=\"periodic\"):\n",
    "    operator_pool = get_operator_pool(op_names, lat_shape, boundary)\n",
    "    return [op.imag for op in operator_pool]\n",
    "\n",
    "def construct_electric_vac(lat_shape):\n",
    "    n = lat_shape[0]*lat_shape[1]\n",
    "    return sparse.csc_matrix( ([1] + [0]*(2**n - 1)) ).T\n",
    "\n",
    "def expectation_value(state, op):\n",
    "    return (state.T.conj() @ (op @ state)).sum().real\n",
    "\n",
    "# These ones require the coupling / hamiltonian\n",
    "\n",
    "def get_commutator_pool(H, imag_operator_pool):\n",
    "    return [-(H @ op - op @ H) for op in imag_operator_pool]\n"
   ]
  },
  {
   "cell_type": "code",
   "execution_count": null,
   "id": "d499c297",
   "metadata": {},
   "outputs": [],
   "source": [
    "def opt_step(psi_prev, epss_prev, indices_prev, H, lat_shape, commutator_pool, psi_0, imag_operator_pool):\n",
    "    n = lat_shape[0]*lat_shape[1]\n",
    "\n",
    "    ips = np.array([expectation_value(psi_prev, op) for op in commutator_pool])\n",
    "    min_index = random.choice(np.where(ips == np.max(np.abs(ips)))[0])\n",
    "    new_indices = np.append( indices_prev.astype(int), int(min_index) )\n",
    "    new_epss = np.append(epss_prev, 0.01)\n",
    "\n",
    "    def ansatz(epss):\n",
    "        U = sp.sparse.eye(2**n, format=\"csc\")\n",
    "        for eps, idx in zip(epss, new_indices):\n",
    "            U = sp.sparse.linalg.expm( eps * imag_operator_pool[idx]) @ U\n",
    "        return U @ psi_0\n",
    "    \n",
    "    def objective_ev(epss):\n",
    "        new_state = ansatz(epss)\n",
    "        return expectation_value(new_state, H)\n",
    "    \n",
    "    sol = sp.optimize.minimize(objective_ev, new_epss)\n",
    "    opt_epss = sol[\"x\"]\n",
    "    new_energy = sol[\"fun\"]\n",
    "    new_state = ansatz(opt_epss)\n",
    "\n",
    "    return new_indices, new_state, opt_epss, new_energy"
   ]
  },
  {
   "cell_type": "code",
   "execution_count": 141,
   "id": "d13dceab",
   "metadata": {},
   "outputs": [],
   "source": [
    "def adapt_vqe(g, lat_shape, boundary=\"periodic\", N_colors=3, op_pool_names=[\"P0P0P0P0Y\", \"P0P0P0P1Y\"], delta_E=0.0001):\n",
    "\n",
    "    H = make_ham(g, lat_shape, boundary, N_colors)\n",
    "    imag_operator_pool = get_imag_operator_pool(op_pool_names, lat_shape, boundary)\n",
    "    commutator_pool = get_commutator_pool(H, imag_operator_pool)\n",
    "\n",
    "    # store results\n",
    "    psi_0 = construct_electric_vac(lat_shape)\n",
    "    epss = []\n",
    "    indices = []\n",
    "    energies = []\n",
    "\n",
    "    # use in loop\n",
    "    new_state = psi_0\n",
    "    opt_epss = np.array(epss)\n",
    "    new_indices = np.array(indices)\n",
    "\n",
    "    while True:\n",
    "        new_indices, new_state, opt_epss, new_energy = opt_step(new_state, opt_epss, new_indices, H, lat_shape, commutator_pool, psi_0, imag_operator_pool)\n",
    "        indices.append( new_indices[-1] )\n",
    "        epss.append( opt_epss )\n",
    "        energies.append( new_energy )\n",
    "        if len(energies) > 2 and abs(energies[-1] - energies[-2]) <= delta_E:\n",
    "            break\n",
    "    \n",
    "    return energies, indices, epss, new_state"
   ]
  },
  {
   "cell_type": "code",
   "execution_count": 145,
   "id": "9ae73f67",
   "metadata": {},
   "outputs": [],
   "source": [
    "'''\n",
    "input data\n",
    "'''\n",
    "g = 0.6\n",
    "lat_shape = (3,3)\n",
    "boundary=\"periodic\"\n",
    "N_colors = 3\n",
    "\n",
    "\n",
    "'''\n",
    "hyper-parameters\n",
    "'''\n",
    "op_pool =[\"P0P0P0P0Y\", \"P0P0P0P1Y\"]\n",
    "delta_E = 0.001\n",
    "\n",
    "\n",
    "energies, indices, epss, new_state = adapt_vqe(g, lat_shape, boundary, N_colors, op_pool, delta_E)"
   ]
  },
  {
   "cell_type": "code",
   "execution_count": 146,
   "id": "c2b7107b",
   "metadata": {},
   "outputs": [
    {
     "data": {
      "text/plain": [
       "0.05291449437232831"
      ]
     },
     "execution_count": 146,
     "metadata": {},
     "output_type": "execute_result"
    }
   ],
   "source": [
    "energies[-1] - get_ground_state_energy(g, lat_shape)"
   ]
  },
  {
   "cell_type": "markdown",
   "id": "8634f378",
   "metadata": {},
   "source": [
    "### Performance vs. coupling"
   ]
  },
  {
   "cell_type": "markdown",
   "id": "0ce85dc1",
   "metadata": {},
   "source": []
  }
 ],
 "metadata": {
  "kernelspec": {
   "display_name": "base",
   "language": "python",
   "name": "python3"
  },
  "language_info": {
   "codemirror_mode": {
    "name": "ipython",
    "version": 3
   },
   "file_extension": ".py",
   "mimetype": "text/x-python",
   "name": "python",
   "nbconvert_exporter": "python",
   "pygments_lexer": "ipython3",
   "version": "3.9.13"
  }
 },
 "nbformat": 4,
 "nbformat_minor": 5
}
