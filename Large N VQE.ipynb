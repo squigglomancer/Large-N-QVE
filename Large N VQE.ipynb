{
 "cells": [
  {
   "cell_type": "markdown",
   "id": "1def4480-6fc5-402a-ba66-b7be185d6ba1",
   "metadata": {},
   "source": [
    "# The Hamiltonian\n",
    "\n",
    "The electric and magnetic Hamiltonians in the $|0\\rangle$, $| 1 \\rangle$ truncation are:\n",
    "\n",
    "$$ H_E = \\frac{8}{3}g^2 \\sum_{p} \\hat{P}_{1,p} $$\n",
    "\n",
    "$$ H_B = -\\frac{1}{2g^2} \\sum_{p} \\left( \\hat{P}_{1,p} + \\sqrt{2} \\hat{P}_{0,p+\\hat{x}} \\hat{P}_{0,p-\\hat{x}} \\hat{P}_{0,p+\\hat{y}} \\hat{P}_{0,p-\\hat{y}} \\hat{X}_{p}  \\right) $$\n",
    "\n",
    "where $\\hat{P}_{0,p}=\\ket{0}\\bra{0}_p$ is the projector onto the $\\ket{0}$ state on plaquette $p$, and $\\hat{P}_{1,p}=\\ket{1}\\bra{1}_{p}$ is the proctor onto the $\\ket{1}$ state on plaquette $p$.\n",
    "\n",
    "In what follows, the part of the magnetic Hamiltonian that looks like $-\\frac{1}{2g^2} P_1$ is removed."
   ]
  },
  {
   "cell_type": "code",
   "execution_count": 3,
   "id": "02dd16b0-ccd9-41fe-aa68-f0145aef9742",
   "metadata": {},
   "outputs": [],
   "source": [
    "import numpy as np\n",
    "from scipy import sparse\n",
    "from scipy.sparse.linalg import eigsh\n",
    "from scipy.sparse import kron, eye, csr_matrix\n",
    "import matplotlib.pyplot as plt\n",
    "import math\n",
    "from scipy.optimize import curve_fit\n",
    "import scipy.linalg as linalg"
   ]
  },
  {
   "cell_type": "code",
   "execution_count": 4,
   "id": "05103624-68be-4f4d-a366-291e60debe0d",
   "metadata": {},
   "outputs": [],
   "source": [
    "\n",
    "'''\n",
    "We'll need to define functions that implements the operators in the Hamiltonian, namely the P_1 and PPPPX operators.\n",
    "Want to work with sparse matrices.\n",
    "'''\n",
    "\n",
    "# Create the one-qubit operations\n",
    "Id =  sparse.csr_matrix(np.array([[1.,0.],[0.,1.]]))\n",
    "P1 = sparse.csr_matrix(np.array([[0., 0.],[0., 1.]]))\n",
    "P0 = sparse.csr_matrix(np.array([[1.,0.],[0.,0.]]))\n",
    "Xop = sparse.csr_matrix(np.array([[0.,1.],[1.,0.]]))\n",
    "Yop = sparse.csr_matrix(np.array([[0.,1j],[-1j,0.]]))\n",
    "\n",
    "# Define a function that acts with a one-qubit operator on a specified qubit. So, it takes in a 2x2 matrix and spits out a 2^n x 2^n matrix.\n",
    "def one_qubit_gate(M, p, L):\n",
    "    n = L*L\n",
    "    result = eye(1, format='csr') # create a sparse 1x1 matrix to store result\n",
    "    # kronecker together a bunch of identities, and the 2x2 matrix M in the proper location p\n",
    "    for i in range(n):\n",
    "        if (i==p):\n",
    "            result = kron(result, M, format='csr')\n",
    "        else:\n",
    "            result = kron(result, Id, format='csr')  \n",
    "    return result\n",
    "\n",
    "\n",
    "\n",
    "# Define a function that acts with X on a specified location p, with P0 on a list of specified locations (p1, p2, p3, p4) \n",
    "def PXP_gate(p, p_list, L):\n",
    "    n = int(L*L)\n",
    "    result = eye(1, format='csr')\n",
    "    for i in range(n):\n",
    "        if (i==p):\n",
    "            result = kron(result, Xop, format='csr')\n",
    "        elif (i in p_list):\n",
    "            result = kron(result, P0, format='csr')\n",
    "        else:\n",
    "            result = kron(result, Id, format='csr')\n",
    "    return result"
   ]
  },
  {
   "cell_type": "code",
   "execution_count": 15,
   "id": "e2d48992-c908-4858-b741-bba622bd9a90",
   "metadata": {},
   "outputs": [],
   "source": [
    "'''\n",
    "Convert between the single-index p which enumerates qubits, and double-index (i,j) which enumerates lattice sites\n",
    "'''\n",
    "\n",
    "def map_to_circuit(i,j,L=4):\n",
    "    return i*L + j\n",
    "\n",
    "def map_to_lattice(i,L=4):\n",
    "    return i // L, i % L\n",
    "\n",
    "\n",
    "''' \n",
    "Create a function that produces the Hamiltonian matrix\n",
    "'''\n",
    "\n",
    "def make_electric_ham(g, L=4):\n",
    "    # Returns a sparse 2**n x 2**n matrix containing the diagonal part of the Hamiltonian\n",
    "    n = L*L\n",
    "    elec_prefactor = (8./3.)*g*g\n",
    "    \n",
    "    H_E = csr_matrix((2**n, 2**n))\n",
    "    for p in range(n):\n",
    "        H_E += one_qubit_gate(P1, p, L)\n",
    "    return elec_prefactor*H_E\n",
    "\n",
    "\n",
    "\n",
    "def make_magnetic_ham(g, L=4, boundary='periodic'):\n",
    "    # Returns a sparse 2**n x 2**n matrix containing the PXP part of the Hamiltonian\n",
    "    n = L*L\n",
    "    mag_prefactor = -np.sqrt(2)/(2*g*g)\n",
    "\n",
    "    H_B = csr_matrix((2**n, 2**n))\n",
    "    if (boundary == 'periodic'):\n",
    "        for p in range(n):\n",
    "            i, j = map_to_lattice(p, L)\n",
    "            nl   = map_to_circuit((i - 1) % L, j, L)\n",
    "            nd   = map_to_circuit(i, (j - 1) % L, L)\n",
    "            nr   = map_to_circuit((i + 1) % L, j, L)\n",
    "            nu   = map_to_circuit(i, (j + 1) % L, L)\n",
    "            H_B += PXP_gate(p, [nl, nd, nr, nu], L)\n",
    "    return mag_prefactor*H_B\n",
    "\n",
    "def make_energy_penalty(L, boundary='periodic'):\n",
    "    # Return a term that penalizes unphysical states (states where two neigboring plaquettes are excited\n",
    "    n = L*L\n",
    "    H_pen = csr_matrix((2**n, 2**n))\n",
    "    for p in range(n):\n",
    "        i, j = map_to_lattice(p, L)\n",
    "        nu   = map_to_circuit(i, (j + 1) % L, L)\n",
    "        nr   = map_to_circuit((i + 1) % L, j, L)\n",
    "        H_pen += one_qubit_gate( P1, p, L) @ one_qubit_gate( P1, nu, L)\n",
    "        H_pen += one_qubit_gate( P1, p, L) @ one_qubit_gate( P1, nr, L)\n",
    "    return H_pen\n",
    "            \n",
    "\n",
    "def make_ham(g, L=4, boundary='periodic', penalty=0):\n",
    "    H_E = make_electric_ham(g, L)\n",
    "    H_B = make_magnetic_ham(g, L, boundary=boundary)\n",
    "    H_pen = penalty * make_energy_penalty(L, boundary=boundary)\n",
    "    return H_E + H_B + H_pen\n",
    "\n",
    "\n",
    "def get_ground_state_energy(g, L=4, boundary='periodic', penalty=0):\n",
    "    H = make_ham(g, L, boundary=boundary, penalty=penalty)\n",
    "    evals, evecs = eigsh( H, which='SA', k=1)\n",
    "    return evals[0]"
   ]
  },
  {
   "cell_type": "markdown",
   "id": "5b58b75c-47f2-4ef1-82be-d1092108c09a",
   "metadata": {},
   "source": [
    "### Optimizer"
   ]
  },
  {
   "cell_type": "code",
   "execution_count": 6,
   "id": "bf6aa000-f01d-49c0-973d-44a36e0a995a",
   "metadata": {},
   "outputs": [],
   "source": [
    "from scipy.optimize import minimize"
   ]
  },
  {
   "cell_type": "markdown",
   "id": "4ff805f0-1c75-4167-ac84-b956efad3879",
   "metadata": {},
   "source": [
    "# Trial state\n",
    "\n",
    "Following the rationale of ADAPT-VQE, the trial state will be of the form $\\exp( \\hat{\\tau}_k \\theta_k ) \\, ... \\, \\exp( \\hat{\\tau}_1 \\theta_1 ) \\ket{0}$, where the operators $\\hat{\\tau}_i$ are anti-Hermitian operators drawn from a pool of operators, and are of the same form (respecting the same symmetries) as the terms in the Hamiltonian, and in addition are purely real operators. \n",
    "\n",
    "To start off, the operator pool will consist of a single operator: $\\tau = i \\sum_{p} \\hat{Y}_p \\prod_{q \\in \\partial p} \\hat{P}_{0,q} $. This operator is of the same form as the PXP term in the Hamiltonian, but it is purely real and anti-Hermitian, so that it will generate a purely real trial state.\n",
    "\n",
    "Then on a first pass, our trial state is\n",
    "\n",
    "$$ \\ket{\\psi(\\theta)} = \\exp( i \\theta \\sum_{p} \\hat{Y}_p \\prod_{q \\in \\partial p} \\hat{P}_{0,q} ) \\ket{0}  $$\n",
    "\n",
    "with a single variational parameter, $\\theta$. Since this mimicks the time evolution under the Hamiltonian $H' = \\sum_{p} \\hat{Y}_p \\prod_{q \\in \\partial p} \\hat{P}_{0,q}$, I'll call this the 'Y-magnetic ansatz'."
   ]
  },
  {
   "cell_type": "code",
   "execution_count": 7,
   "id": "f89ca0ba-ba5e-4ed4-a7a7-6ad8777edf08",
   "metadata": {},
   "outputs": [],
   "source": [
    "from scipy.sparse.linalg import expm\n",
    "\n",
    "# Define a function that acts with Y on a specified location p, with P0 on a list of specified locations (p1, p2, p3, p4) \n",
    "def PYP_gate(p, p_list, L=4):\n",
    "    n = int(L*L)\n",
    "    result = eye(1, format='csr')\n",
    "    for i in range(n):\n",
    "        if (i==p):\n",
    "            result = kron(result, Yop, format='csr')\n",
    "        elif (i in p_list):\n",
    "            result = kron(result, P0, format='csr')\n",
    "        else:\n",
    "            result = kron(result, Id, format='csr')\n",
    "    return result\n",
    "\n",
    "def make_Y_magnetic_ham(L, boundary='periodic'):\n",
    "    # Returns a sparse 2**n x 2**n matrix containing the PYP part of the Hamildtonian\n",
    "    n = L*L\n",
    "    H = csr_matrix((2**n, 2**n))\n",
    "    if (boundary == 'periodic'):\n",
    "        for p in range(n):\n",
    "            i, j = map_to_lattice(p, L)\n",
    "            nl   = map_to_circuit((i - 1) % L, j, L)\n",
    "            nd   = map_to_circuit(i, (j - 1) % L, L)\n",
    "            nr   = map_to_circuit((i + 1) % L, j, L)\n",
    "            nu   = map_to_circuit(i, (j + 1) % L, L)\n",
    "            H += PYP_gate(p, [nl, nd, nr, nu], L)\n",
    "    return H\n",
    "\n",
    "\n",
    "def Y_magnetic_ansatz_operator(L, theta):\n",
    "    # Return the 2^L x 2^L matrix giving the operator enacting the Y magnetic ansatz\n",
    "    H = make_Y_magnetic_ham(L)\n",
    "    return expm(1j * theta * H)\n",
    "\n",
    "def Y_magnetic_ansatz(L, theta):\n",
    "    # Return the variational ansatz state vector resulting from the Y magnetic ansatz\n",
    "    H = Y_magnetic_ansatz_operator(L, theta)\n",
    "    return H[:,0]\n",
    "\n",
    "def Y_magnetic_ansatz_estimate_energy(theta_array, g, L, boundary='periodic', penalty=0):\n",
    "    # Compute the expectation value <psi| H | psi> of the variational state |psi> with respect to the system Hamiltonian H.\n",
    "    theta = theta_array[0]\n",
    "    trial_state = Y_magnetic_ansatz(L, theta)\n",
    "    H = make_ham(g, L, boundary=boundary, penalty=penalty)\n",
    "    return np.real( np.conjugate(np.transpose(trial_state)) @ H @ trial_state )[0,0]\n",
    "\n"
   ]
  },
  {
   "cell_type": "code",
   "execution_count": 21,
   "id": "640b8900-dc3c-4f56-b9aa-ab4eec69a092",
   "metadata": {},
   "outputs": [
    {
     "name": "stdout",
     "output_type": "stream",
     "text": [
      "(Variational ground state energy) - (true ground state energy) = 0.0005617001197277816\n"
     ]
    },
    {
     "data": {
      "text/plain": [
       " message: Optimization terminated successfully.\n",
       " success: True\n",
       "  status: 1\n",
       "     fun: -1.3299697879000936\n",
       "       x: [ 1.968e-01]\n",
       "    nfev: 23\n",
       "   maxcv: 0.0"
      ]
     },
     "execution_count": 21,
     "metadata": {},
     "output_type": "execute_result"
    }
   ],
   "source": [
    "g = 1.\n",
    "L = 3\n",
    "boundary = 'periodic'\n",
    "penalty = 0\n",
    "\n",
    "def Y_magnetic_ansatz_cost_function(theta_array):\n",
    "    return Y_magnetic_ansatz_estimate_energy(theta_array, g, L, boundary=boundary, penalty=penalty)\n",
    "\n",
    "theta0 = [0.1]\n",
    "\n",
    "result = minimize(Y_magnetic_ansatz_cost_function, theta0, args=(), method='COBYLA', jac=None, hess=None, hessp=None, bounds=None, constraints=(), tol=None, callback=None, options=None)\n",
    "\n",
    "print( f\"(Variational ground state energy) - (true ground state energy) = {result['fun'] - get_ground_state_energy(g, L, boundary=boundary, penalty=penalty)}\" )\n",
    "result"
   ]
  },
  {
   "cell_type": "markdown",
   "id": "4f68dea3-34dd-4e9e-a227-f21dbf2c951d",
   "metadata": {},
   "source": [
    "## Performance as a function of coupling"
   ]
  },
  {
   "cell_type": "code",
   "execution_count": 18,
   "id": "3fe58f4e-0fd0-4ff3-9594-14c3ccb504fc",
   "metadata": {},
   "outputs": [
    {
     "name": "stdout",
     "output_type": "stream",
     "text": [
      "Computation up to g=1.1 complete."
     ]
    }
   ],
   "source": [
    "L = 3\n",
    "gvals = np.array([0.5, 0.6, 0.7, 0.8, 0.9, 1.0, 1.1, 1.2])\n",
    "boundary = 'periodic'\n",
    "penalty = 0\n",
    "\n",
    "def Y_magnetic_ansatz_cost_function(theta_array):\n",
    "    return Y_magnetic_ansatz_estimate_energy(theta_array, g, L, boundary=boundary, penalty=penalty)\n",
    "\n",
    "theta0 = [0.1]\n",
    "\n",
    "variational_ground_state_energies = []\n",
    "\n",
    "for i in range(len(gvals)):\n",
    "    g = gvals[i]\n",
    "    h = make_ham(g, L, boundary=boundary, penalty=penalty)\n",
    "    result = minimize(Y_magnetic_ansatz_cost_function, theta0, args=(), method='COBYLA', jac=None, hess=None, hessp=None, bounds=None, constraints=(), tol=None, callback=None, options=None)\n",
    "    variational_ground_state_energies.append( result['fun'] )\n",
    "    print(f\"Computation up to g={g} complete.\", end='\\r')"
   ]
  },
  {
   "cell_type": "code",
   "execution_count": 19,
   "id": "9a2a85a4-0b57-4077-9a67-4fe0adfbc9be",
   "metadata": {},
   "outputs": [
    {
     "data": {
      "image/png": "[encoded data removed]",
      "text/plain": [
       "<Figure size 640x480 with 1 Axes>"
      ]
     },
     "metadata": {},
     "output_type": "display_data"
    }
   ],
   "source": [
    "#Make plots\n",
    "fig, ax = plt.subplots()\n",
    "\n",
    "true_ground_state_energies = [ get_ground_state_energy(gi, L, boundary, penalty) for gi in gvals ]\n",
    "\n",
    "plt.title(f\"Ground state energy vs. coupling, L={L}, penalty={penalty}\") \n",
    "plt.xlabel(\"g\") \n",
    "plt.ylabel(\"Energy\")\n",
    "\n",
    "ax.plot( gvals, variational_ground_state_energies ,'-', label=\"Variational ground state energy\")\n",
    "ax.plot( gvals, true_ground_state_energies ,'-', label=\"Exact ground state energy\")\n",
    "legend = ax.legend(loc='best', shadow=True, fontsize='large')\n",
    "plt.show()"
   ]
  },
  {
   "cell_type": "code",
   "execution_count": 20,
   "id": "26a6d55a-2ed5-46ff-a404-4174a979a527",
   "metadata": {},
   "outputs": [
    {
     "data": {
      "image/png": "[encoded data removed]",
      "text/plain": [
       "<Figure size 640x480 with 1 Axes>"
      ]
     },
     "metadata": {},
     "output_type": "display_data"
    }
   ],
   "source": [
    "#Make plots\n",
    "fig, ax = plt.subplots()\n",
    "\n",
    "relative_error =  np.log( np.abs(  np.array(variational_ground_state_energies) - true_ground_state_energies ) ) \n",
    "\n",
    "plt.title(f\"Error vs. coupling, L={L}, penalty={penalty}\") \n",
    "plt.xlabel(\"g\") \n",
    "plt.ylabel(\"Log error\")\n",
    "\n",
    "ax.plot( gvals, relative_error ,'-', label=r\"$\\log|E - E_0|$\")\n",
    "legend = ax.legend(loc='best', shadow=True, fontsize='large')\n",
    "plt.show()"
   ]
  },
  {
   "cell_type": "markdown",
   "id": "522853b1-fcc9-4205-b0e4-329819daef41",
   "metadata": {},
   "source": [
    "### L=4 VQE"
   ]
  },
  {
   "cell_type": "code",
   "execution_count": null,
   "id": "e087204d-a31c-4a4c-918f-8d9da748a7d4",
   "metadata": {},
   "outputs": [
    {
     "name": "stderr",
     "output_type": "stream",
     "text": [
      "/Users/iriandandrea/opt/anaconda3/envs/qis/lib/python3.9/site-packages/scipy/sparse/linalg/_dsolve/linsolve.py:603: SparseEfficiencyWarning: splu converted its input to CSC format\n",
      "  return splu(A).solve\n",
      "/Users/iriandandrea/opt/anaconda3/envs/qis/lib/python3.9/site-packages/scipy/sparse/linalg/_matfuncs.py:707: SparseEfficiencyWarning: spsolve is more efficient when sparse b is in the CSC matrix format\n",
      "  return spsolve(Q, P)\n",
      "Traceback (most recent call last):\n",
      "capi_return is NULL\n",
      "Call-back cb_calcfc_in__cobyla__user__routines failed.\n",
      "  File \"/Users/iriandandrea/opt/anaconda3/envs/qis/lib/python3.9/site-packages/scipy/optimize/_cobyla_py.py\", line 281, in calcfc\n",
      "Fatal Python error: F2PySwapThreadLocalCallbackPtr: F2PySwapThreadLocalCallbackPtr: PyLong_AsVoidPtr failed\n",
      "Python runtime state: initialized\n",
      "    f = sf.fun(x)\n",
      "  File \"/Users/iriandandrea/opt/anaconda3/envs/qis/lib/python3.9/site-packages/scipy/optimize/_differentiable_functions.py\", line 278, in fun\n",
      "    self._update_fun()\n",
      "  File \"/Users/iriandandrea/opt/anaconda3/envs/qis/lib/python3.9/site-packages/scipy/optimize/_differentiable_functions.py\", line 262, in _update_fun\n",
      "    self._update_fun_impl()\n",
      "  File \"/Users/iriandandrea/opt/anaconda3/envs/qis/lib/python3.9/site-packages/scipy/optimize/_differentiable_functions.py\", line 163, in update_fun\n",
      "    self.f = fun_wrapped(self.x)\n",
      "  File \"/Users/iriandandrea/opt/anaconda3/envs/qis/lib/python3.9/site-packages/scipy/optimize/_differentiable_functions.py\", line 145, in fun_wrapped\n",
      "    fx = fun(np.copy(x), *args)\n",
      "  File \"/var/folders/v0/js0jgvnn1h38v53q56d24prm0000gn/T/ipykernel_95791/1527206983.py\", line 7, in Y_magnetic_ansatz_cost_function\n",
      "  File \"/var/folders/v0/js0jgvnn1h38v53q56d24prm0000gn/T/ipykernel_95791/3381180302.py\", line 44, in Y_magnetic_ansatz_estimate_energy\n",
      "  File \"/var/folders/v0/js0jgvnn1h38v53q56d24prm0000gn/T/ipykernel_95791/3381180302.py\", line 38, in Y_magnetic_ansatz\n",
      "  File \"/var/folders/v0/js0jgvnn1h38v53q56d24prm0000gn/T/ipykernel_95791/3381180302.py\", line 34, in Y_magnetic_ansatz_operator\n",
      "  File \"/Users/iriandandrea/opt/anaconda3/envs/qis/lib/python3.9/site-packages/scipy/sparse/linalg/_matfuncs.py\", line 591, in expm\n",
      "    return _expm(A, use_exact_onenorm='auto')\n",
      "  File \"/Users/iriandandrea/opt/anaconda3/envs/qis/lib/python3.9/site-packages/scipy/sparse/linalg/_matfuncs.py\", line 655, in _expm\n",
      "    return _solve_P_Q(U, V, structure=structure)\n",
      "  File \"/Users/iriandandrea/opt/anaconda3/envs/qis/lib/python3.9/site-packages/scipy/sparse/linalg/_matfuncs.py\", line 707, in _solve_P_Q\n",
      "    return spsolve(Q, P)\n",
      "  File \"/Users/iriandandrea/opt/anaconda3/envs/qis/lib/python3.9/site-packages/scipy/sparse/linalg/_dsolve/linsolve.py\", line 321, in spsolve\n",
      "    xj = Afactsolve(bj)\n",
      "KeyboardInterrupt\n"
     ]
    }
   ],
   "source": [
    "g = 1.2\n",
    "L = 4\n",
    "boundary = 'periodic'\n",
    "penalty = 0\n",
    "\n",
    "def Y_magnetic_ansatz_cost_function(theta_array):\n",
    "    return Y_magnetic_ansatz_estimate_energy(theta_array, g, L, boundary=boundary, penalty=penalty)\n",
    "\n",
    "theta0 = [0.1]\n",
    "\n",
    "result = minimize(Y_magnetic_ansatz_cost_function, theta0, args=(), method='COBYLA', jac=None, hess=None, hessp=None, bounds=None, constraints=(), tol=None, callback=None, options=None)\n",
    "\n",
    "print( f\"(Variational ground state energy) - (true ground state energy) = {result['fun'] - get_ground_state_energy(g, L, boundary=boundary, penalty=penalty)}\" )\n",
    "result"
   ]
  }
 ],
 "metadata": {
  "kernelspec": {
   "display_name": "Python 3 (ipykernel)",
   "language": "python",
   "name": "python3"
  },
  "language_info": {
   "codemirror_mode": {
    "name": "ipython",
    "version": 3
   },
   "file_extension": ".py",
   "mimetype": "text/x-python",
   "name": "python",
   "nbconvert_exporter": "python",
   "pygments_lexer": "ipython3",
   "version": "3.9.21"
  }
 },
 "nbformat": 4,
 "nbformat_minor": 5
}
