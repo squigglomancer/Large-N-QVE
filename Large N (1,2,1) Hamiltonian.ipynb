{
 "cells": [
  {
   "cell_type": "markdown",
   "id": "98d903ec-571c-4296-a788-f655e1c585a6",
   "metadata": {},
   "source": [
    "## The (1,2,1) Hamiltonian\n",
    "\n",
    "The electric and magnetic Hamiltonians in the (1,2,1) Hamiltonian are\n",
    "\n",
    "$$ H_E =  g^2 \\left( N_c - \\frac{1}{N_c} \\right)\\left[ \\sum_p  P_{1,p} - \\frac{1}{2}\\sum_p \\sum_{\\hat{n}} P_{1,p} P_{1,p+\\hat{n}} \\right] $$\n",
    "\n",
    "$$ H_B = -\\frac{1}{\\sqrt{2}g^2} \\sum_{p} \\left( \\prod_{\\hat{n}} P_{0,p+\\hat{n}} \\right) X_p - \\frac{1}{2g^2 N_c} \\sum_{p} \\sum_{\\hat{k}} P_{1,p+\\hat{k}} \\left( \\prod_{\\hat{n}\\neq\\hat{k}} P_{0,p+\\hat{n}} \\right) X_p $$\n",
    "\n",
    "where $P_0 = |0\\rangle\\langle 0|$ and $P_1 = |1\\rangle\\langle 1 |$, where the sum over $\\hat{n}$ is a sum over lattice unit vectors.\n",
    "\n",
    "In this truncation, a pair of neighboring plaquettes can be excited, with the link between the two plaquettes in the 1 representation."
   ]
  },
  {
   "cell_type": "code",
   "execution_count": 1,
   "id": "af060874-5545-4ad6-b3c6-b105b1779009",
   "metadata": {},
   "outputs": [],
   "source": [
    "import numpy as np\n",
    "from scipy import sparse\n",
    "from scipy.sparse.linalg import eigsh\n",
    "from scipy.sparse import kron, eye, csr_matrix\n",
    "import matplotlib.pyplot as plt\n",
    "from IPython.display import display\n",
    "from IPython.display import display, Math\n",
    "from matplotlib.colors import ListedColormap"
   ]
  },
  {
   "cell_type": "markdown",
   "id": "2ff7359d-6dee-445c-bc13-35740d9c8595",
   "metadata": {},
   "source": [
    "### Code for defining the Hamiltonian is here:"
   ]
  },
  {
   "cell_type": "code",
   "execution_count": 2,
   "id": "ee37076d-c2f5-491b-8c20-137547300375",
   "metadata": {
    "jupyter": {
     "source_hidden": true
    }
   },
   "outputs": [],
   "source": [
    "'''''''''''''''''''''''''''''''''''''''''''''''''''''''''''''''''''''''''''''''''''''''''''''''''''''''''''''''''\n",
    "Define functions that implements the operators in the Hamiltonian.\n",
    "Want to work with sparse matrices.\n",
    "'''''''''''''''''''''''''''''''''''''''''''''''''''''''''''''''''''''''''''''''''''''''''''''''''''''''''''''''''\n",
    "\n",
    "# Create the one-qubit operations\n",
    "Id =  sparse.csr_matrix(np.array([[1.,0.],[0.,1.]]))\n",
    "P1 = sparse.csr_matrix(np.array([[0., 0.],[0., 1.]]))\n",
    "P0 = sparse.csr_matrix(np.array([[1.,0.],[0.,0.]]))\n",
    "Xop = sparse.csr_matrix(np.array([[0.,1.],[1.,0.]]))\n",
    "\n",
    "\n",
    "'''''''''''''''''''''''''''''''''''''''''''''''''''''''''''''''''''''''''''''''''''''''''''''''''''''''''''''''''\n",
    "A function that acts with a one-qubit operator on a specified qubit. So, it takes in a 2x2 matrix and spits out a 2^n x 2^n matrix.\n",
    "'''''''''''''''''''''''''''''''''''''''''''''''''''''''''''''''''''''''''''''''''''''''''''''''''''''''''''''''''\n",
    "\n",
    "def one_qubit_gate( \n",
    "    M: sparse._csr.csr_matrix, \n",
    "    p: int, \n",
    "    n: int\n",
    "    ) -> sparse._csr.csr_matrix:\n",
    "    if (M.shape != (2,2)):\n",
    "        print('Warning: Expected M argument to be a 2x2 sparse matrix.')\n",
    "    if ( p<0 or p>=n ):\n",
    "        print(f'Warning: Expected p argument to be within the range [0, {n}-1] inclusive.')\n",
    "\n",
    "    result = eye(1, format='csr') # create a sparse 1x1 matrix to store result\n",
    "    for i in range(n):\n",
    "        if (i==p):\n",
    "            result = kron(result, M, format='csr')\n",
    "        else:\n",
    "            result = kron(result, Id, format='csr')  \n",
    "    return result\n",
    "\n",
    "\n",
    "'''''''''''''''''''''''''''''''''''''''''''''''''''''''''''''''''''''''''''''''''''''''''''''''''''''''''''''''''\n",
    "    Define a function that returns an n-qubit gate that is in the form of a tensor product of single qubit gates.\n",
    "\n",
    "    Expects the dictionary op_dict to be of the form { p1: M1, p2: M2, p3: M3 } where the p's are integers specifying\n",
    "    qubits and the M's are 2x2 matrices in sparse format specifying one-qubit gates.\n",
    "'''''''''''''''''''''''''''''''''''''''''''''''''''''''''''''''''''''''''''''''''''''''''''''''''''''''''''''''''\n",
    "\n",
    "def multi_qubit_gate(\n",
    "    op_dict: dict, \n",
    "    n: int\n",
    "    ) -> sparse._csr.csr_matrix:\n",
    "    result = eye(1, format='csr') # Create a 1x1 in sparse format to build our operator\n",
    "    for i in range(n):\n",
    "        if i in op_dict:\n",
    "            result = kron(result, op_dict[i], format='csr')\n",
    "        else:\n",
    "            result = kron(result, Id, format='csr')\n",
    "    return result\n",
    "\n",
    "\n",
    "'''''''''''''''''''''''''''''''''''''''''''''''''''''''''''''''''''''''''''''''''''''''''''''''''''''''''''''''''\n",
    "Convert between the single-index p which enumerates qubits, and double-index (i,j) which enumerates lattice sites\n",
    "'''''''''''''''''''''''''''''''''''''''''''''''''''''''''''''''''''''''''''''''''''''''''''''''''''''''''''''''''\n",
    "\n",
    "def map_to_circuit( i, j, L, H ):\n",
    "    if i >= L:\n",
    "        print(f\"[map_to_circuit] i index out of bounds: expected i<{L}, but i={i}\")\n",
    "    if j >= H:\n",
    "        print(f\"[map_to_circuit] j index out of bounds, expected j<{H}, but j={j}\")\n",
    "    \n",
    "    return j*L + i\n",
    "\n",
    "\n",
    "def map_to_lattice( p, L, H ):\n",
    "    if p >= (L*H):\n",
    "        print(f\"[map_to_lattice] p index out of bounds, expected p<{L*H}, but p={p}\")\n",
    "\n",
    "    return p % L, p // L\n",
    "\n",
    "\n",
    "\n",
    "''''''''''''''''''''''''''''''''''''''''''''''''''''''''''''''''''''''''''''''''''''''''''''''''''''''''''''''''' \n",
    "Create a function that produces the Hamiltonian matrix\n",
    "'''''''''''''''''''''''''''''''''''''''''''''''''''''''''''''''''''''''''''''''''''''''''''''''''''''''''''''''''\n",
    "\n",
    "def make_electric_ham(\n",
    "    g: float, \n",
    "    lat_shape: list, \n",
    "    boundary: str = 'periodic', \n",
    "    N_colors: int = 3 \n",
    ") -> sparse._csr.csr_matrix:\n",
    "    \n",
    "    # Returns a sparse 2**n x 2**n matrix containing the diagonal part of the Hamiltonian\n",
    "    L = lat_shape[0]\n",
    "    H = lat_shape[1]\n",
    "    n = L*H\n",
    "    \n",
    "    H_E = csr_matrix((2**n, 2**n))\n",
    "    \n",
    "    for p in range(n):\n",
    "        H_E += one_qubit_gate(P1, p, n)\n",
    "        \n",
    "    if boundary=='periodic':\n",
    "        for p in range(n):\n",
    "            i, j = map_to_lattice(p, L, H)\n",
    "            nr   = map_to_circuit((i + 1) % L, j, L, H)\n",
    "            nu   = map_to_circuit(i, (j + 1) % H, L, H)\n",
    "            H_E -= 0.5 * multi_qubit_gate( {p: P1, nr: P1}, n )\n",
    "            H_E -= 0.5 * multi_qubit_gate( {p: P1, nu: P1}, n )\n",
    "        \n",
    "    return (N_colors - 1/N_colors)*g*g * H_E\n",
    "\n",
    "\n",
    "\n",
    "def make_magnetic_ham(\n",
    "    g: float, \n",
    "    lat_shape: tuple, \n",
    "    boundary='periodic',\n",
    "    N_colors: int = 3\n",
    ") -> sparse._csr.csr_matrix:\n",
    "    # Returns a sparse 2**n x 2**n matrix containing the magnetic part of the Hamiltonian\n",
    "    L = lat_shape[0]\n",
    "    H = lat_shape[1]\n",
    "    n = L*H\n",
    "    mag_prefactor1 = -np.sqrt(2)/(2*g*g)\n",
    "    mag_prefactor2 = -1/(2*g*g*N_colors)\n",
    "\n",
    "    H_B1 = csr_matrix((2**n, 2**n))\n",
    "    H_B2 = csr_matrix((2**n, 2**n))\n",
    "    \n",
    "    if (boundary == 'periodic'):\n",
    "        for p in range(n):\n",
    "            i, j = map_to_lattice(p, L, H)\n",
    "            nl   = map_to_circuit((i - 1) % L, j, L, H)\n",
    "            nd   = map_to_circuit(i, (j - 1) % H, L, H)\n",
    "            nr   = map_to_circuit((i + 1) % L, j, L, H)\n",
    "            nu   = map_to_circuit(i, (j + 1) % H, L, H)\n",
    "\n",
    "            # Apply the X P0 P0 P0 P0 term\n",
    "            H_B1 += multi_qubit_gate( {p: Xop, nl: P0, nd: P0, nr: P0, nu: P0}, n )\n",
    "\n",
    "            # Apply the X P0 P0 P0 P1 term\n",
    "            H_B2 += multi_qubit_gate( {p: Xop, nl: P1, nd: P0, nr: P0, nu: P0}, n )\n",
    "            H_B2 += multi_qubit_gate( {p: Xop, nl: P0, nd: P1, nr: P0, nu: P0}, n )\n",
    "            H_B2 += multi_qubit_gate( {p: Xop, nl: P0, nd: P0, nr: P1, nu: P0}, n )\n",
    "            H_B2 += multi_qubit_gate( {p: Xop, nl: P0, nd: P0, nr: P0, nu: P1}, n )\n",
    "\n",
    "    H_B = mag_prefactor1 * H_B1  +   mag_prefactor2 * H_B2\n",
    "    \n",
    "    return H_B\n",
    "\n",
    "\n",
    "def make_ham(\n",
    "    g: float, \n",
    "    lat_shape: tuple, \n",
    "    boundary: str ='periodic',\n",
    "    N_colors: int =3\n",
    ") -> sparse._csr.csr_matrix:\n",
    "    \n",
    "    HE = make_electric_ham(g, lat_shape, boundary, N_colors)\n",
    "    HB = make_magnetic_ham(g, lat_shape, boundary, N_colors)\n",
    "    return HE + HB\n",
    "\n",
    "\n",
    "def get_ground_state_energy(g, lat_shape, boundary='periodic', N_colors=3):\n",
    "    H = make_ham(g, lat_shape, boundary, N_colors)\n",
    "    evals, evecs = eigsh( H, which='SA', k=1)\n",
    "    return evals[0]\n"
   ]
  },
  {
   "cell_type": "markdown",
   "id": "0a3742c3-f6fa-4510-b7a8-348db8142097",
   "metadata": {},
   "source": [
    "### Code for drawing states is here:"
   ]
  },
  {
   "cell_type": "code",
   "execution_count": 3,
   "id": "ca3b8cd1-5bc7-41e3-b6c9-c2ae11467178",
   "metadata": {
    "jupyter": {
     "source_hidden": true
    }
   },
   "outputs": [],
   "source": [
    "'''''''''''''''''''''''''''''''''''''''''''''''''''''''''''''''''''''''''''''''''''''''''''''''''''''''''''''''''\n",
    "Take in a vector and write it as a sum of kets, with the kets being the computational basis states.\n",
    "'''''''''''''''''''''''''''''''''''''''''''''''''''''''''''''''''''''''''''''''''''''''''''''''''''''''''''''''''\n",
    "\n",
    "def write_state_as_kets( vec, max_num_states=10 ):\n",
    "    # Get the number of qubits from the length of the vector\n",
    "    n = int(np.log2(len(vec)))\n",
    "\n",
    "    # Trim the vector down to its k largest (absolute) values\n",
    "    vec = keep_k_largest(vec, k=max_num_states)\n",
    "    \n",
    "    # Make a list of tuples of the form (coefficient, state) \n",
    "    terms = [ (vec[i], format(i, f\"0{n}b\") ) for i in range(len(vec)) if np.abs(vec[i]) > 0.00000001 ]\n",
    "    # Sort them in descending order based on their coefficients\n",
    "    terms = sorted( terms, key=lambda t: abs(t[0]), reverse=True )\n",
    "    \n",
    "    # Make this into a list of LaTeX formatted terms\n",
    "    latex_terms = [ fr'{{{coef:.3f}}}\\ket{{{state}}}' for coef, state in terms ]\n",
    "    expr = \" + \".join(latex_terms)\n",
    "    \n",
    "    # Write it\n",
    "    display(Math(expr))\n",
    "    return\n",
    "\n",
    "'''''''''''''''''''''''''''''''''''''''''''''''''''''''''''''''''''''''''''''''''''''''''''''''''''''''''''''''''\n",
    "Take in a vector specifying a state, and the lattice shape (L,H), and plot the state.\n",
    "'''''''''''''''''''''''''''''''''''''''''''''''''''''''''''''''''''''''''''''''''''''''''''''''''''''''''''''''''\n",
    "\n",
    "def draw_state( vec, lat_shape, max_num_states=10 ):\n",
    "    # Convert the lattice shape to an array shape\n",
    "    arr_shape = (lat_shape[1], lat_shape[0])\n",
    "    \n",
    "    # Get the number of qubits from the lattice shape, and make sure the vector and lattice shapes are compatible\n",
    "    L, H = lat_shape[0], lat_shape[1]\n",
    "    n = L*H\n",
    "    if n != int(np.log2(len(vec))):\n",
    "        print(f\"[draw_state]: The number of qubits in vec ({int(np.log2(len(vec)))}) and the lattice shape ({lat_shape}) are not compatible\")\n",
    "\n",
    "    # Trim the vector down to its k largest (absolute) values\n",
    "    vec = keep_k_largest(vec, k=max_num_states)\n",
    "\n",
    "    # Make a list of tuples of the form (coefficient, binary_string), sorted by size of coefficient\n",
    "    terms = [ (vec[i], format(i, f\"0{n}b\") ) for i in range(len(vec)) if np.abs(vec[i]) > 0.0000001 ]\n",
    "    terms = sorted( terms, key=lambda t: abs(t[0]), reverse=True )\n",
    "\n",
    "    \n",
    "    # Create side-by-side plots\n",
    "    fig, axs = plt.subplots(1, len(terms), figsize=(len(terms)*1.5, 1.5))\n",
    "\n",
    "    # Handle edge case\n",
    "    if len(terms) == 1:\n",
    "        axs = [axs]\n",
    "\n",
    "    for ax, term in zip(axs, terms):\n",
    "        create_binary_plot_on_ax(ax, term[1], arr_shape)\n",
    "\n",
    "    plt.tight_layout()\n",
    "    plt.show()\n",
    "    return\n",
    "\n",
    "\n",
    "\n",
    "'''''''''''''''''''''''''''''''''''''''''''''''''''''''''''''''''''''''''''''''''''''''''''''''''''''''''''''''''\n",
    "# Create a function that takes in a binary string and a lattice shape, and plots the corresponding state\n",
    "# The binary string should be of length L*H, where L and H are the dimensions of the lattice.\n",
    "# The function should create a 2D plot of the binary string, with 0s and 1s represented by different colors.\n",
    "# The function should also allow for optional gridlines to be drawn, to indicate the borders of the lattice.\n",
    "# The function should draw the state using a different color if the state is not physical.\n",
    "# For an unphysical state, the cluster containing a cycle is drawn in red.\n",
    "'''''''''''''''''''''''''''''''''''''''''''''''''''''''''''''''''''''''''''''''''''''''''''''''''''''''''''''''''\n",
    "\n",
    "def create_binary_plot(binary_str, lat_shape, borders=True):\n",
    "    # Start by converting the binary string into a binary array\n",
    "    binary_array = binary_array_from_list( binary_str, lat_shape )\n",
    "    vmax = 1 # Default max value for the colormap\n",
    "    \n",
    "    # Create custom colormap\n",
    "    cmap = ListedColormap([\"#003366\", \"#FFD700\"])\n",
    "\n",
    "    # Check if the state is physical\n",
    "    is_physical, cluster = is_physical_state(binary_str, lat_shape)\n",
    "\n",
    "    # If the state is not physical, color the cluster containing a cycle in red\n",
    "    if not is_physical:\n",
    "        # Create a copy of the binary array to modify\n",
    "        binary_array = np.copy(binary_array)\n",
    "        # Set the cluster containing a cycle to red\n",
    "        for x, y in cluster:\n",
    "            binary_array[x, y] = 2\n",
    "        cmap = ListedColormap([\"#003366\", \"#FFD700\", \"#FF0000\"])\n",
    "        vmax = 2 # Set max value for the colormap to include the red color\n",
    "\n",
    "\n",
    "    # Create the plot\n",
    "    fig, ax = plt.subplots(figsize=(lat_shape[0], lat_shape[1]))\n",
    "    im = ax.imshow(binary_array, cmap=cmap, interpolation=\"none\", vmin=0, vmax=vmax)\n",
    "\n",
    "    # Style the plot\n",
    "    ax.set_xticks([])\n",
    "    ax.set_yticks([])\n",
    "    ax.grid(False)\n",
    "\n",
    "    # Optional: add gridlines if you want to see borders\n",
    "    if borders==True:\n",
    "        plt.grid(color='white', linewidth=1)\n",
    "        plt.gca().set_xticks(np.arange(-.5, lat_shape[0], 1), minor=True)\n",
    "        plt.gca().set_yticks(np.arange(-.5, lat_shape[1], 1), minor=True)\n",
    "        plt.gca().grid(which=\"minor\", color=\"white\", linewidth=2)\n",
    "        plt.gca().tick_params(which=\"minor\", bottom=False, left=False)\n",
    "\n",
    "    plt.close(fig)  # prevent automatic display\n",
    "\n",
    "    # Return the figure and axis for later use\n",
    "    return fig, ax\n",
    "\n",
    "\n",
    "'''''''''''''''''''''''''''''''''''''''''''''''''''''''''''''''''''''''''''''''''''''''''''''''''''''''''''''''''\n",
    "Take in a binary string representing a computational basis state and determine if the state is physical or not.\n",
    "In the (1,2,1) Hamiltonian, you can check if a computational basis state is physical in the following way:\n",
    "1. Create a set of disjointed graphs by connecting all neighboring 1's to each other.\n",
    "2. Check if any of the graphs have any cycles.\n",
    "3. If any of the graphs have cycles, the state is not physical. Otherwise, it is physical.\n",
    "'''''''''''''''''''''''''''''''''''''''''''''''''''''''''''''''''''''''''''''''''''''''''''''''''''''''''''''''''\n",
    "\n",
    "def is_physical_state( binary_str, lat_shape ):\n",
    "    # Convert the binary string into a binary array\n",
    "    binary_array = binary_array_from_list( binary_str, lat_shape )\n",
    "\n",
    "    arr_shape = (lat_shape[1], lat_shape[0])\n",
    "\n",
    "    # Loop through the binary array and find all the clusters of 1's\n",
    "    clusters = []\n",
    "    visited = np.zeros_like(binary_array, dtype=bool)\n",
    "    for i in range(arr_shape[0]):\n",
    "        for j in range(arr_shape[1]):\n",
    "            if binary_array[i, j] == 1 and not visited[i, j]:\n",
    "                # Start a new cluster\n",
    "                cluster = []\n",
    "                stack = [(i, j)]\n",
    "                while stack:\n",
    "                    x, y = stack.pop()\n",
    "                    if visited[x, y]:\n",
    "                        continue\n",
    "                    visited[x, y] = True\n",
    "                    cluster.append((x, y))\n",
    "                    # Check neighbors\n",
    "                    for dx, dy in [(-1, 0), (1, 0), (0, -1), (0, 1)]:\n",
    "                        nx, ny = (x + dx) % arr_shape[0], (y + dy) % arr_shape[1]\n",
    "                        if binary_array[nx, ny] == 1 and not visited[nx, ny]:\n",
    "                            stack.append((nx, ny))\n",
    "                clusters.append(cluster)\n",
    "\n",
    "    # Check if any of the clusters have cycles\n",
    "    for cluster in clusters:\n",
    "        # Create a set to keep track of visited nodes\n",
    "        visited = set()\n",
    "        stack = [cluster[0]]\n",
    "        while stack:\n",
    "            node = stack.pop()\n",
    "            if node in visited:\n",
    "                # Print the cycle for debugging\n",
    "                # print(\"Cycle detected in cluster:\", cluster)\n",
    "                # Cycle detected\n",
    "                return False, cluster\n",
    "            # Mark the node as visited \n",
    "            visited.add(node)\n",
    "            # Check neighbors\n",
    "            for dx, dy in [(-1, 0), (1, 0), (0, -1), (0, 1)]:\n",
    "                nx, ny = (node[0] + dx) % arr_shape[0], (node[1] + dy) % arr_shape[1]\n",
    "                if (nx, ny) in cluster and (nx, ny) not in visited:\n",
    "                    stack.append((nx, ny))\n",
    "    # If no cycles were found, the state is physical\n",
    "    return True, []\n",
    "\n",
    "\n",
    "\n",
    "'''''''''''''''''''''''''''''''''''''''''''''''''''''''''''''''''''''''''''''''''''''''''''''''''''''''''''''''''\n",
    "Helper functions below\n",
    "'''''''''''''''''''''''''''''''''''''''''''''''''''''''''''''''''''''''''''''''''''''''''''''''''''''''''''''''''\n",
    "\n",
    "\n",
    "# Helper function, to turn a binary string into an array with the shape of the lattice\n",
    "def binary_array_from_list( binary_str: str, lat_shape: tuple):\n",
    "    arr_shape = (lat_shape[1], lat_shape[0])\n",
    "\n",
    "    # Check if the length of the binary string matches the expected size\n",
    "    if len(binary_str) != arr_shape[0] * arr_shape[1]:\n",
    "        raise ValueError(f\"Binary string length {len(binary_str)} does not match expected size {arr_shape[0] * arr_shape[1]}\")\n",
    "    # Check if the binary string contains only 0s and 1s\n",
    "    if not all(bit in '01' for bit in binary_str):\n",
    "        raise ValueError(\"Binary string must contain only 0s and 1s\")\n",
    "    # Convert the string into a list of integers (0s and 1s)\n",
    "    binary_list = [int(bit) for bit in binary_str]\n",
    "\n",
    "    # Convert the list into a NumPy array with the desired shape\n",
    "    binary_array = np.array(binary_list).reshape(arr_shape)\n",
    "\n",
    "    return binary_array\n",
    "\n",
    "\n",
    "# The create_binary_plot function, now slightly tweaked to draw on an Axes object\n",
    "# Helper function for draw_state()\n",
    "# Like the create_binary_plot function, it will check if the state is physical or not, and color the cluster containing a cycle in red.\n",
    "def create_binary_plot_on_ax(ax, binary_str, shape):\n",
    "    binary_array = np.array([int(b) for b in binary_str]).reshape(shape)\n",
    "    cmap = ListedColormap([\"#003366\", \"#FFD700\"])\n",
    "    vmax = 1 # Default max value for the colormap\n",
    "    # Check if the state is physical\n",
    "    is_physical, cluster = is_physical_state(binary_str, shape)\n",
    "    # If the state is not physical, color the cluster containing a cycle in red\n",
    "    if not is_physical:\n",
    "        # Set the cluster containing a cycle to red\n",
    "        for x, y in cluster:\n",
    "            binary_array[x, y] = 2\n",
    "        cmap = ListedColormap([\"#003366\", \"#FFD700\", \"#FF0000\"])\n",
    "        vmax = 2 # Set max value for the colormap to include the red color\n",
    "\n",
    "    ax.imshow(binary_array, cmap=cmap, interpolation=\"none\", vmin=0, vmax=vmax)\n",
    "    ax.set_xticks([])\n",
    "    ax.set_yticks([])\n",
    "    ax.grid(False)\n",
    "\n",
    "    \n",
    "# Helper function, trip an array to only its k largest values\n",
    "def keep_k_largest(arr, k):\n",
    "    # Make a copy so we don't modify the original\n",
    "    result = np.zeros_like(arr)\n",
    "    \n",
    "    # Get indices of the k largest absolute values\n",
    "    if k > 0:\n",
    "        idx = np.argpartition(np.abs(arr), -k)[-k:]\n",
    "        result[idx] = arr[idx]\n",
    "    \n",
    "    return result\n",
    "\n",
    "\n",
    "\n",
    "\n",
    "#'''''''''''''''''''''''''''''''''''''''''''''''''''''''''''''''''''''''''''''''''''''''''''''''''''''''''''''''''\n",
    "#Old code below\n",
    "#'''''''''''''''''''''''''''''''''''''''''''''''''''''''''''''''''''''''''''''''''''''''''''''''''''''''''''''''''\n",
    "\n",
    "\n",
    "# '''\n",
    "# Takes in a string like \"0001001000\" specifying a computational basis state |0001001000>, and spits out the corresponding\n",
    "# vector of length 2^n. This vector will be a \"one shot\" vector, with only a single nonzero entry (which will\n",
    "# be equal to 1).\n",
    "\n",
    "# Also write an inverse function, mapping oneshot vectors to basis state strings.\n",
    "# '''\n",
    "\n",
    "#def show_ket(bitstring):\n",
    "#    from IPython.display import display, Math\n",
    "#    display(Math(fr'\\ket{{{bitstring}}}'))\n",
    "\n",
    "    \n",
    "\n",
    "# def list_to_oneshot_vector(config: str):\n",
    "#     n = len(config)\n",
    "#     vec = np.zeros(2**n)\n",
    "#     vec[int(config, 2)] = 1\n",
    "#     return vec\n",
    "\n",
    "\n",
    "# def oneshot_vector_to_list(vec: np.ndarray) -> str:\n",
    "#     index = np.argmax(vec)  # gets the index where the 1 is\n",
    "#     n = int(np.log2(len(vec)))  # number of bits in the original string\n",
    "#     binary_str = format(index, f\"0{n}b\")  # convert to binary and pad with zeros\n",
    "#     return binary_str\n"
   ]
  },
  {
   "cell_type": "markdown",
   "id": "ecbd8863-b453-49f4-884d-38573b7080a3",
   "metadata": {},
   "source": [
    "### Unphysically degenerate electric vacuum\n",
    "\n",
    "The new electric Hamiltonian nominally has a degenerate ground state, as can be seen by diagonalizing it and printing the two lowest energies:"
   ]
  },
  {
   "cell_type": "code",
   "execution_count": 4,
   "id": "06d604fd-d3e9-46b0-968e-7a19bcba1f4e",
   "metadata": {},
   "outputs": [
    {
     "name": "stdout",
     "output_type": "stream",
     "text": [
      "The two lowest energies are -0.0000 and 0.0000.\n"
     ]
    }
   ],
   "source": [
    "g = 1.\n",
    "lat_shape = (3,3)\n",
    "\n",
    "H = make_electric_ham(g, lat_shape)\n",
    "evals, evecs = eigsh(H, k=10, which='SA')\n",
    "\n",
    "print(f\"The two lowest energies are {evals[0]:.{4}f} and {evals[1]:.{4}f}.\")"
   ]
  },
  {
   "cell_type": "markdown",
   "id": "0ab1d88b-0201-4239-a961-f1714a2e3701",
   "metadata": {},
   "source": [
    "One of these states is the physical electric vacuum $|00...0\\rangle$. The other one is the state $|11...1\\rangle$, which at first glance appears to be a maximally excited state. However, it has no meaning within this truncation scheme, because it allows more than two nieghboring plaquettes to be excited (in this case, all of them). The interaction term $\\sim P_1 P_1$ in the electric Hamiltonian is attractive, and with just the right prefactor to cause the electric energy of the $|11...1\\rangle$ state to vanish. However, the dyanmics does not couple to this state, and with proper error mitigation this unphysical state should not show up at all in practice."
   ]
  },
  {
   "cell_type": "code",
   "execution_count": 5,
   "id": "b2a906de-ad2a-4932-a2ac-92f8ab192dcc",
   "metadata": {},
   "outputs": [
    {
     "name": "stdout",
     "output_type": "stream",
     "text": [
      "The first (degenerate) electric vacuum is:\n"
     ]
    },
    {
     "data": {
      "text/latex": [
       "$\\displaystyle {-0.893}\\ket{111111111} + {0.450}\\ket{000000000}$"
      ],
      "text/plain": [
       "<IPython.core.display.Math object>"
      ]
     },
     "metadata": {},
     "output_type": "display_data"
    },
    {
     "name": "stdout",
     "output_type": "stream",
     "text": [
      "The second (degenerate) electric vacuum is:\n"
     ]
    },
    {
     "data": {
      "text/latex": [
       "$\\displaystyle {-0.893}\\ket{000000000} + {-0.450}\\ket{111111111}$"
      ],
      "text/plain": [
       "<IPython.core.display.Math object>"
      ]
     },
     "metadata": {},
     "output_type": "display_data"
    }
   ],
   "source": [
    "# See the two ground state eigenvectors explicitly:\n",
    "g = 1.\n",
    "lat_shape = (3,3)\n",
    "\n",
    "H = make_electric_ham(g, lat_shape)\n",
    "evals, evecs = eigsh(H, k=2, which='SA')\n",
    "\n",
    "print(\"The first (degenerate) electric vacuum is:\")\n",
    "write_state_as_kets(evecs[:,0] )\n",
    "print(\"The second (degenerate) electric vacuum is:\")\n",
    "write_state_as_kets(evecs[:,1])"
   ]
  },
  {
   "cell_type": "markdown",
   "id": "bf2b754d-e4f2-43ea-a24d-6d115c0760d3",
   "metadata": {},
   "source": [
    "\n",
    "\n",
    "### Magnetic hamiltonian spectrum as a function of coupling"
   ]
  },
  {
   "cell_type": "code",
   "execution_count": 6,
   "id": "91c5d029-f2c9-4302-aa22-d31a42f3a868",
   "metadata": {
    "jupyter": {
     "source_hidden": true
    }
   },
   "outputs": [
    {
     "ename": "KeyboardInterrupt",
     "evalue": "",
     "output_type": "error",
     "traceback": [
      "\u001b[0;31m---------------------------------------------------------------------------\u001b[0m",
      "\u001b[0;31mKeyboardInterrupt\u001b[0m                         Traceback (most recent call last)",
      "\u001b[0;32m/var/folders/v0/js0jgvnn1h38v53q56d24prm0000gn/T/ipykernel_31543/35465653.py\u001b[0m in \u001b[0;36m<module>\u001b[0;34m\u001b[0m\n\u001b[1;32m      9\u001b[0m     \u001b[0mg\u001b[0m \u001b[0;34m=\u001b[0m \u001b[0mgvals\u001b[0m\u001b[0;34m[\u001b[0m\u001b[0mi\u001b[0m\u001b[0;34m]\u001b[0m\u001b[0;34m\u001b[0m\u001b[0;34m\u001b[0m\u001b[0m\n\u001b[1;32m     10\u001b[0m     \u001b[0mh\u001b[0m \u001b[0;34m=\u001b[0m \u001b[0mmake_magnetic_ham\u001b[0m\u001b[0;34m(\u001b[0m\u001b[0mg\u001b[0m\u001b[0;34m,\u001b[0m \u001b[0mlat_shape\u001b[0m\u001b[0;34m)\u001b[0m\u001b[0;34m\u001b[0m\u001b[0;34m\u001b[0m\u001b[0m\n\u001b[0;32m---> 11\u001b[0;31m     \u001b[0mevals\u001b[0m\u001b[0;34m,\u001b[0m \u001b[0mevecs\u001b[0m \u001b[0;34m=\u001b[0m \u001b[0meigsh\u001b[0m\u001b[0;34m(\u001b[0m \u001b[0mh\u001b[0m\u001b[0;34m,\u001b[0m \u001b[0mwhich\u001b[0m\u001b[0;34m=\u001b[0m\u001b[0;34m'SA'\u001b[0m\u001b[0;34m,\u001b[0m \u001b[0mk\u001b[0m\u001b[0;34m=\u001b[0m\u001b[0mnum_evals\u001b[0m \u001b[0;34m)\u001b[0m\u001b[0;34m\u001b[0m\u001b[0;34m\u001b[0m\u001b[0m\n\u001b[0m\u001b[1;32m     12\u001b[0m     \u001b[0menergies\u001b[0m\u001b[0;34m.\u001b[0m\u001b[0mappend\u001b[0m\u001b[0;34m(\u001b[0m\u001b[0mevals\u001b[0m\u001b[0;34m)\u001b[0m\u001b[0;34m\u001b[0m\u001b[0;34m\u001b[0m\u001b[0m\n\u001b[1;32m     13\u001b[0m     \u001b[0mprint\u001b[0m\u001b[0;34m(\u001b[0m\u001b[0;34mf\"Diagonzalization up to g={g} complete.\"\u001b[0m\u001b[0;34m,\u001b[0m \u001b[0mend\u001b[0m\u001b[0;34m=\u001b[0m\u001b[0;34m'\\r'\u001b[0m\u001b[0;34m)\u001b[0m\u001b[0;34m\u001b[0m\u001b[0;34m\u001b[0m\u001b[0m\n",
      "\u001b[0;32m~/opt/anaconda3/lib/python3.9/site-packages/scipy/sparse/linalg/_eigen/arpack/arpack.py\u001b[0m in \u001b[0;36meigsh\u001b[0;34m(A, k, M, sigma, which, v0, ncv, maxiter, tol, return_eigenvectors, Minv, OPinv, mode)\u001b[0m\n\u001b[1;32m   1687\u001b[0m     \u001b[0;32mwith\u001b[0m \u001b[0m_ARPACK_LOCK\u001b[0m\u001b[0;34m:\u001b[0m\u001b[0;34m\u001b[0m\u001b[0;34m\u001b[0m\u001b[0m\n\u001b[1;32m   1688\u001b[0m         \u001b[0;32mwhile\u001b[0m \u001b[0;32mnot\u001b[0m \u001b[0mparams\u001b[0m\u001b[0;34m.\u001b[0m\u001b[0mconverged\u001b[0m\u001b[0;34m:\u001b[0m\u001b[0;34m\u001b[0m\u001b[0;34m\u001b[0m\u001b[0m\n\u001b[0;32m-> 1689\u001b[0;31m             \u001b[0mparams\u001b[0m\u001b[0;34m.\u001b[0m\u001b[0miterate\u001b[0m\u001b[0;34m(\u001b[0m\u001b[0;34m)\u001b[0m\u001b[0;34m\u001b[0m\u001b[0;34m\u001b[0m\u001b[0m\n\u001b[0m\u001b[1;32m   1690\u001b[0m \u001b[0;34m\u001b[0m\u001b[0m\n\u001b[1;32m   1691\u001b[0m         \u001b[0;32mreturn\u001b[0m \u001b[0mparams\u001b[0m\u001b[0;34m.\u001b[0m\u001b[0mextract\u001b[0m\u001b[0;34m(\u001b[0m\u001b[0mreturn_eigenvectors\u001b[0m\u001b[0;34m)\u001b[0m\u001b[0;34m\u001b[0m\u001b[0;34m\u001b[0m\u001b[0m\n",
      "\u001b[0;32m~/opt/anaconda3/lib/python3.9/site-packages/scipy/sparse/linalg/_eigen/arpack/arpack.py\u001b[0m in \u001b[0;36miterate\u001b[0;34m(self)\u001b[0m\n\u001b[1;32m    533\u001b[0m     \u001b[0;32mdef\u001b[0m \u001b[0miterate\u001b[0m\u001b[0;34m(\u001b[0m\u001b[0mself\u001b[0m\u001b[0;34m)\u001b[0m\u001b[0;34m:\u001b[0m\u001b[0;34m\u001b[0m\u001b[0;34m\u001b[0m\u001b[0m\n\u001b[1;32m    534\u001b[0m         \u001b[0mself\u001b[0m\u001b[0;34m.\u001b[0m\u001b[0mido\u001b[0m\u001b[0;34m,\u001b[0m \u001b[0mself\u001b[0m\u001b[0;34m.\u001b[0m\u001b[0mtol\u001b[0m\u001b[0;34m,\u001b[0m \u001b[0mself\u001b[0m\u001b[0;34m.\u001b[0m\u001b[0mresid\u001b[0m\u001b[0;34m,\u001b[0m \u001b[0mself\u001b[0m\u001b[0;34m.\u001b[0m\u001b[0mv\u001b[0m\u001b[0;34m,\u001b[0m \u001b[0mself\u001b[0m\u001b[0;34m.\u001b[0m\u001b[0miparam\u001b[0m\u001b[0;34m,\u001b[0m \u001b[0mself\u001b[0m\u001b[0;34m.\u001b[0m\u001b[0mipntr\u001b[0m\u001b[0;34m,\u001b[0m \u001b[0mself\u001b[0m\u001b[0;34m.\u001b[0m\u001b[0minfo\u001b[0m \u001b[0;34m=\u001b[0m\u001b[0;31m \u001b[0m\u001b[0;31m\\\u001b[0m\u001b[0;34m\u001b[0m\u001b[0;34m\u001b[0m\u001b[0m\n\u001b[0;32m--> 535\u001b[0;31m             self._arpack_solver(self.ido, self.bmat, self.which, self.k,\n\u001b[0m\u001b[1;32m    536\u001b[0m                                 \u001b[0mself\u001b[0m\u001b[0;34m.\u001b[0m\u001b[0mtol\u001b[0m\u001b[0;34m,\u001b[0m \u001b[0mself\u001b[0m\u001b[0;34m.\u001b[0m\u001b[0mresid\u001b[0m\u001b[0;34m,\u001b[0m \u001b[0mself\u001b[0m\u001b[0;34m.\u001b[0m\u001b[0mv\u001b[0m\u001b[0;34m,\u001b[0m \u001b[0mself\u001b[0m\u001b[0;34m.\u001b[0m\u001b[0miparam\u001b[0m\u001b[0;34m,\u001b[0m\u001b[0;34m\u001b[0m\u001b[0;34m\u001b[0m\u001b[0m\n\u001b[1;32m    537\u001b[0m                                 self.ipntr, self.workd, self.workl, self.info)\n",
      "\u001b[0;31mKeyboardInterrupt\u001b[0m: "
     ]
    }
   ],
   "source": [
    "lat_shape = (4,4)\n",
    "gvals = np.array([0.4, 0.5, 0.6, 0.7, 0.8, 0.9, 1.0, 1.1, 1.2])\n",
    "\n",
    "num_evals = 20\n",
    "\n",
    "energies = []\n",
    "\n",
    "for i in range(len(gvals)):\n",
    "    g = gvals[i]\n",
    "    h = make_magnetic_ham(g, lat_shape)\n",
    "    evals, evecs = eigsh( h, which='SA', k=num_evals )\n",
    "    energies.append(evals)\n",
    "    print(f\"Diagonzalization up to g={g} complete.\", end='\\r')\n",
    "\n",
    "#Make plots\n",
    "fig, ax = plt.subplots()\n",
    "\n",
    "plt.title(f\"{num_evals} lowest lying energies of magnetic hamiltonian L={lat_shape[0]}\") \n",
    "plt.xlabel(\"g\") \n",
    "plt.ylabel(\"Spectrum\")\n",
    "\n",
    "offset=0.05\n",
    "\n",
    "for k in range(num_evals):\n",
    "    ax.plot( gvals, [i[k]-i[0]+k*offset for i in energies] ,'-')\n",
    "\n",
    "plt.show()"
   ]
  },
  {
   "cell_type": "markdown",
   "id": "e0aea33e-36fa-4547-b869-f739b83264b3",
   "metadata": {},
   "source": [
    "## Spectrum as a function of coupling"
   ]
  },
  {
   "cell_type": "code",
   "execution_count": null,
   "id": "86234eee-5e07-438a-8977-75d437ae5a3a",
   "metadata": {
    "collapsed": true,
    "jupyter": {
     "outputs_hidden": true,
     "source_hidden": true
    }
   },
   "outputs": [
    {
     "name": "stdout",
     "output_type": "stream",
     "text": [
      "Diagonzalization up to g=1.05 complete.\r"
     ]
    }
   ],
   "source": [
    "lat_shape = (3,3)\n",
    "gvals = np.linspace(0.65, 1.05, 20)\n",
    "boundary = \"periodic\"\n",
    "\n",
    "num_evals = 100\n",
    "\n",
    "energies = []\n",
    "\n",
    "for i in range(len(gvals)):\n",
    "    g = gvals[i]\n",
    "    h = make_ham(g, lat_shape, boundary)\n",
    "    evals, evecs = eigsh( h, which='SA', k=num_evals )\n",
    "    energies.append(evals)\n",
    "    # show progress\n",
    "    print(f\"Diagonzalization up to g={g:.2f} complete.\", end='\\r')"
   ]
  },
  {
   "cell_type": "code",
   "execution_count": null,
   "id": "d8528465-6772-4907-b682-772aca531e92",
   "metadata": {
    "jupyter": {
     "source_hidden": true
    }
   },
   "outputs": [
    {
     "data": {
      "image/png": "[encoded data removed]",
      "text/plain": [
       "<Figure size 640x480 with 1 Axes>"
      ]
     },
     "metadata": {},
     "output_type": "display_data"
    }
   ],
   "source": [
    "#Make plots\n",
    "fig, ax = plt.subplots()\n",
    "\n",
    "plt.title(f\"{num_evals} lowest lying energies, lattice shape={lat_shape[0], lat_shape[1]}\") \n",
    "plt.xlabel(\"g\") \n",
    "plt.ylabel(\"Spectrum\")\n",
    "\n",
    "offset=0.0\n",
    "\n",
    "for k in range(num_evals):\n",
    "    ax.plot( gvals, [i[k]-i[0]+k*offset for i in energies] ,'-')\n",
    "\n",
    "plt.show()"
   ]
  },
  {
   "cell_type": "markdown",
   "id": "7aebfc62",
   "metadata": {},
   "source": [
    "## View the basis states that contribute to the first few energy eigenstates\n",
    "\n",
    "The ```draw_state( vec, lat_shape )``` function lets you visualize the basis states that make up a state ```vec```, ordered from largest overlap to smallest overlap."
   ]
  },
  {
   "cell_type": "code",
   "execution_count": null,
   "id": "fa53bf08",
   "metadata": {},
   "outputs": [
    {
     "name": "stdout",
     "output_type": "stream",
     "text": [
      "The states making up the ground state are:\n"
     ]
    },
    {
     "data": {
      "image/png": "[encoded data removed]",
      "text/plain": [
       "<Figure size 3750x150 with 25 Axes>"
      ]
     },
     "metadata": {},
     "output_type": "display_data"
    },
    {
     "name": "stdout",
     "output_type": "stream",
     "text": [
      "The states making up the unphysical first excited state are:\n"
     ]
    },
    {
     "data": {
      "image/png": "[encoded data removed]",
      "text/plain": [
       "<Figure size 150x150 with 1 Axes>"
      ]
     },
     "metadata": {},
     "output_type": "display_data"
    }
   ],
   "source": [
    "# Pick some parameters\n",
    "g = 1.\n",
    "lat_shape = (3,3)\n",
    "\n",
    "# Diagonalize the Hamiltonian\n",
    "H = make_ham(g, lat_shape)\n",
    "evals, evecs = eigsh(H, k=10, which='SA')\n",
    "\n",
    "ground_state = evecs[:,0]\n",
    "false_ground_state = evecs[:,1]\n",
    "\n",
    "print(\"The states making up the ground state are:\")\n",
    "draw_state( ground_state , (3,3), 25 )\n",
    "print(\"The states making up the unphysical first excited state are:\")\n",
    "draw_state( false_ground_state , (3,3), 28 )"
   ]
  },
  {
   "cell_type": "markdown",
   "id": "462147f0",
   "metadata": {},
   "source": [
    "You can also use the function ```write_state_as_kets( vec, max_num_states )``` to write out a state ```vec``` as a linear combination of basis states, ordered from largest to smallest overlap."
   ]
  },
  {
   "cell_type": "code",
   "execution_count": null,
   "id": "97dcc1fc",
   "metadata": {},
   "outputs": [
    {
     "data": {
      "text/latex": [
       "$\\displaystyle {0.832}\\ket{000000000} + {0.176}\\ket{100000000} + {0.176}\\ket{000000010} + {0.176}\\ket{000001000} + {0.176}\\ket{010000000} + {0.176}\\ket{000000100} + {0.176}\\ket{000100000} + {0.176}\\ket{001000000} + {0.176}\\ket{000000001} + {0.176}\\ket{000010000} + {0.038}\\ket{000001010} + {0.038}\\ket{000100010} + {0.038}\\ket{010000001} + {0.038}\\ket{000001100} + {0.038}\\ket{001000010} + {0.038}\\ket{010000100} + {0.038}\\ket{100000010} + {0.038}\\ket{001100000} + {0.038}\\ket{000010001} + {0.038}\\ket{000010100} + {0.038}\\ket{000100001} + {0.038}\\ket{001010000} + {0.038}\\ket{010100000} + {0.038}\\ket{100000001} + {0.038}\\ket{010001000} + {0.038}\\ket{100001000} + {0.038}\\ket{001000100} + {0.038}\\ket{100010000}$"
      ],
      "text/plain": [
       "<IPython.core.display.Math object>"
      ]
     },
     "metadata": {},
     "output_type": "display_data"
    },
    {
     "data": {
      "text/latex": [
       "$\\displaystyle {-1.000}\\ket{111111111}$"
      ],
      "text/plain": [
       "<IPython.core.display.Math object>"
      ]
     },
     "metadata": {},
     "output_type": "display_data"
    }
   ],
   "source": [
    "# We can also write the ground state as a sum of kets to see the coefficients\n",
    "write_state_as_kets( ground_state, max_num_states=28 )\n",
    "\n",
    "write_state_as_kets( false_ground_state, max_num_states=28 )"
   ]
  },
  {
   "cell_type": "markdown",
   "id": "f083578b",
   "metadata": {},
   "source": [
    "## Flag unphysical basis states\n",
    "\n",
    "Use the function ```is_physical_state( binary_str, lat_shape )``` to determine if a given state $| \"01001... 1\" \\rangle$ is physical or not. The function returns a tuple ```(is_physical, cluster)``` containing a bool ```is_physical``` that is ```True``` if the state is physical and ```False``` if it is unphysical. The ```cluster``` is a list of array indicies indicating the cluster of 1's that causes the state to be unphysical. This is useful for plotting the state, if you want to color-code the unphysical states. "
   ]
  },
  {
   "cell_type": "code",
   "execution_count": null,
   "id": "2045e95f-51c1-4dae-b0a2-cd188639e8aa",
   "metadata": {
    "scrolled": true
   },
   "outputs": [
    {
     "data": {
      "image/png": "[encoded data removed]",
      "text/plain": [
       "<Figure size 400x400 with 1 Axes>"
      ]
     },
     "metadata": {},
     "output_type": "display_data"
    },
    {
     "name": "stdout",
     "output_type": "stream",
     "text": [
      "The state 1100110000100010 is unphysical.\n"
     ]
    },
    {
     "data": {
      "text/plain": [
       "[(0, 0), (0, 1), (1, 1), (1, 0)]"
      ]
     },
     "execution_count": 28,
     "metadata": {},
     "output_type": "execute_result"
    }
   ],
   "source": [
    "# Create an unphysical state\n",
    "binary_string = \"1100110000100010\"\n",
    "lat_shape = (4, 4)\n",
    "\n",
    "# Plot the unphysical state\n",
    "fig, ax = create_binary_plot(binary_string, lat_shape, borders=False)\n",
    "display(fig)\n",
    "\n",
    "# View the output of the is_physical_state function\n",
    "is_physical, cluster = is_physical_state(binary_string, lat_shape)\n",
    "print(f\"The state {binary_string} is {'physical' if is_physical else 'unphysical'}.\")\n",
    "cluster"
   ]
  },
  {
   "cell_type": "markdown",
   "id": "7c649f0c",
   "metadata": {},
   "source": [
    "# What fraction of the computational basis states are unphysical?"
   ]
  },
  {
   "cell_type": "code",
   "execution_count": null,
   "id": "90685628-08f2-4ac8-838a-bcdbca848779",
   "metadata": {},
   "outputs": [
    {
     "name": "stdout",
     "output_type": "stream",
     "text": [
      "L=2, H=2, fraction of unphysical states = 0.5625\n",
      "L=2, H=3, fraction of unphysical states = 0.6094\n",
      "L=2, H=4, fraction of unphysical states = 0.6914\n",
      "L=2, H=5, fraction of unphysical states = 0.7646\n",
      "L=3, H=3, fraction of unphysical states = 0.5293\n",
      "L=3, H=4, fraction of unphysical states = 0.5779\n",
      "L=3, H=5, fraction of unphysical states = 0.6338\n",
      "L=4, H=4, fraction of unphysical states = 0.6183\n",
      "L=4, H=5, fraction of unphysical states = 0.6706\n"
     ]
    }
   ],
   "source": [
    "unphysical_fraction = []\n",
    "\n",
    "for L in range(2, 5):\n",
    "    for H in range(L, 6):\n",
    "        lat_shape = (L, H)\n",
    "        n = L*H  # number of bits in the original string\n",
    "\n",
    "        physical_list = []\n",
    "\n",
    "        for i in range(2**n):\n",
    "            binary_str = format(i, f\"0{n}b\")  # convert to binary and pad with zeros\n",
    "            is_physical, cluster = is_physical_state(binary_str, lat_shape)\n",
    "            if is_physical:\n",
    "                physical_list.append( binary_str )\n",
    "        unphysical_fraction.append((lat_shape,1 - len(physical_list) / 2**n))\n",
    "        # make the print statement write over iteself each time\n",
    "        print(f\"L={L}, H={H}, fraction of unphysical states = {1 - len(physical_list) / 2**n:.4f}\", end='\\r')\n",
    "        \n",
    "# plot the unphysical fraction as a bar plot, with the x-axis being the lattice shape.\n",
    "# The bars should be ordered from smallest to largest fraction of unphysical states.\n",
    "unphysical_fraction = sorted(unphysical_fraction, key=lambda x: x[1])\n",
    "# Create a bar plot\n",
    "fig, ax = plt.subplots()\n",
    "x = np.arange(len(unphysical_fraction))\n",
    "width = 0.35\n",
    "ax.bar(x, [i[1] for i in unphysical_fraction], width, label='Unphysical fraction')\n",
    "ax.set_ylim(0, 1)\n",
    "ax.set_ylabel('Fraction of unphysical states')\n",
    "ax.set_title('Fraction of unphysical states for different lattice shapes')\n",
    "ax.set_xticks(x)\n",
    "ax.set_xticklabels([f\"{i[0][0]}x{i[0][1]}\" for i in unphysical_fraction])\n",
    "ax.legend()\n",
    "plt.show()"
   ]
  },
  {
   "cell_type": "code",
   "execution_count": null,
   "id": "d3522b4c",
   "metadata": {},
   "outputs": [
    {
     "data": {
      "image/png": "[encoded data removed]",
      "text/plain": [
       "<Figure size 640x480 with 1 Axes>"
      ]
     },
     "metadata": {},
     "output_type": "display_data"
    }
   ],
   "source": []
  },
  {
   "cell_type": "markdown",
   "id": "d23dee49-ebea-46af-8606-579267c4d37d",
   "metadata": {},
   "source": [
    "# Precompute a dictionary of all physical and unphysical states\n",
    "\n",
    "The code-snippet below will load the file (by default named ```is_physical_dict.pkl```) into the variable ```is_physical_dict```, or, if the file does not yet exist, it creates the file and populates it with data."
   ]
  },
  {
   "cell_type": "code",
   "execution_count": 1,
   "id": "c84f9678",
   "metadata": {},
   "outputs": [
    {
     "name": "stdout",
     "output_type": "stream",
     "text": [
      "Dictionary loaded from is_physical_dict.pkl\n"
     ]
    }
   ],
   "source": [
    "# The entries in the dictionary are of the form { (binary_string, lat_shape): is_physical }\n",
    "# The loop has a progress bar, and the dictionary is saved to a file 'is_physical_dict.pkl'.\n",
    "from tqdm import tqdm\n",
    "import pickle\n",
    "import os\n",
    "\n",
    "def save_is_physical_dict(filename, is_physical_dict):\n",
    "    with open(filename, 'wb') as f:\n",
    "        pickle.dump(is_physical_dict, f)\n",
    "    print(f\"Dictionary saved to {filename}\")\n",
    "\n",
    "def load_is_physical_dict(filename):\n",
    "    if os.path.exists(filename):\n",
    "        with open(filename, 'rb') as f:\n",
    "            is_physical_dict = pickle.load(f)\n",
    "        print(f\"Dictionary loaded from {filename}\")\n",
    "        return is_physical_dict\n",
    "    else:\n",
    "        print(f\"File {filename} does not exist.\")\n",
    "        return None\n",
    "\n",
    "# Load the dictionary if it exists, otherwise create it\n",
    "filename = \"is_physical_dict.pkl\"\n",
    "is_physical_dict = load_is_physical_dict(filename)\n",
    "# If the dictionary is None, create it\n",
    "if is_physical_dict is None:\n",
    "    is_physical_dict = {}\n",
    "    # Loop through all possible lattice shapes of interest\n",
    "    for L in tqdm(range(2, 5)):\n",
    "        for H in range(L, 6):\n",
    "            lat_shape = (L, H)\n",
    "            n = L*H  # number of bits in the original string\n",
    "\n",
    "            # Loop through all possible binary strings\n",
    "            for i in range(2**n):\n",
    "                binary_str = format(i, f\"0{n}b\")  # convert to binary and pad with zeros\n",
    "                is_physical, cluster = is_physical_state(binary_str, lat_shape)\n",
    "                is_physical_dict[(binary_str, lat_shape)] = is_physical\n",
    "    # Save the dictionary to a file\n",
    "    save_is_physical_dict(filename, is_physical_dict)\n",
    "\n",
    "\n",
    "\n",
    "\n",
    "\n",
    "# Create a function that takes in a state vector and a lattice shape, and returns whether the state is physical or not\n",
    "def is_physical_state_from_vector(state_vector, lat_shape):\n",
    "    n = int(np.log2(len(state_vector)))\n",
    "    if n != lat_shape[0] * lat_shape[1]:\n",
    "        raise ValueError(f\"State vector length {len(state_vector)} does not match expected size {lat_shape[0] * lat_shape[1]}\")\n",
    "    \n",
    "    # Check if the dictionary is loaded\n",
    "    if is_physical_dict is None:\n",
    "        raise ValueError(\"is_physical_dict is not loaded. Please load it first.\")\n",
    "\n",
    "    # For each nonzero entry in the state vector, check if the corresponding binary string is in the dictionary\n",
    "    for i in range(len(state_vector)):\n",
    "        if np.abs(state_vector[i]) >= 0.000001:\n",
    "            binary_str = format(i, f\"0{n}b\")  # convert to binary and pad with zeros\n",
    "            if (binary_str, lat_shape) in is_physical_dict:\n",
    "                if is_physical_dict[(binary_str, lat_shape)]:\n",
    "                    continue\n",
    "                else:\n",
    "                    return False\n",
    "            else:\n",
    "                raise ValueError(f\"Binary string {binary_str} not found in the dictionary for lattice shape {lat_shape}\")\n",
    "    return True"
   ]
  },
  {
   "cell_type": "markdown",
   "id": "2b7e2898",
   "metadata": {},
   "source": [
    "## Check whether a state is physical or not\n",
    "\n",
    "A state ```vec``` is physical if it has no overlap with the unphysical basis states. The function ```is_physical_state_from_vector(state_vector, lat_shape)``` determines whether the state has such an overlap, within numerical precision 10e-7."
   ]
  },
  {
   "cell_type": "code",
   "execution_count": 2,
   "id": "6e2b8b41",
   "metadata": {},
   "outputs": [
    {
     "ename": "NameError",
     "evalue": "name 'make_ham' is not defined",
     "output_type": "error",
     "traceback": [
      "\u001b[0;31m---------------------------------------------------------------------------\u001b[0m",
      "\u001b[0;31mNameError\u001b[0m                                 Traceback (most recent call last)",
      "\u001b[0;32m/var/folders/v0/js0jgvnn1h38v53q56d24prm0000gn/T/ipykernel_85821/2554633473.py\u001b[0m in \u001b[0;36m<module>\u001b[0;34m\u001b[0m\n\u001b[1;32m      3\u001b[0m \u001b[0mg\u001b[0m \u001b[0;34m=\u001b[0m \u001b[0;36m1.\u001b[0m\u001b[0;34m\u001b[0m\u001b[0;34m\u001b[0m\u001b[0m\n\u001b[1;32m      4\u001b[0m \u001b[0mlat_shape\u001b[0m \u001b[0;34m=\u001b[0m \u001b[0;34m(\u001b[0m\u001b[0;36m3\u001b[0m\u001b[0;34m,\u001b[0m\u001b[0;36m3\u001b[0m\u001b[0;34m)\u001b[0m\u001b[0;34m\u001b[0m\u001b[0;34m\u001b[0m\u001b[0m\n\u001b[0;32m----> 5\u001b[0;31m \u001b[0mH\u001b[0m \u001b[0;34m=\u001b[0m \u001b[0mmake_ham\u001b[0m\u001b[0;34m(\u001b[0m\u001b[0mg\u001b[0m\u001b[0;34m,\u001b[0m \u001b[0mlat_shape\u001b[0m\u001b[0;34m)\u001b[0m\u001b[0;34m\u001b[0m\u001b[0;34m\u001b[0m\u001b[0m\n\u001b[0m\u001b[1;32m      6\u001b[0m \u001b[0mevals\u001b[0m\u001b[0;34m,\u001b[0m \u001b[0mevecs\u001b[0m \u001b[0;34m=\u001b[0m \u001b[0meigsh\u001b[0m\u001b[0;34m(\u001b[0m\u001b[0mH\u001b[0m\u001b[0;34m,\u001b[0m \u001b[0mk\u001b[0m\u001b[0;34m=\u001b[0m\u001b[0;36m2\u001b[0m\u001b[0;34m,\u001b[0m \u001b[0mwhich\u001b[0m\u001b[0;34m=\u001b[0m\u001b[0;34m'SA'\u001b[0m\u001b[0;34m)\u001b[0m\u001b[0;34m\u001b[0m\u001b[0;34m\u001b[0m\u001b[0m\n\u001b[1;32m      7\u001b[0m \u001b[0mprint\u001b[0m\u001b[0;34m(\u001b[0m \u001b[0mis_physical_state_from_vector\u001b[0m\u001b[0;34m(\u001b[0m\u001b[0mevecs\u001b[0m\u001b[0;34m[\u001b[0m\u001b[0;34m:\u001b[0m\u001b[0;34m,\u001b[0m\u001b[0;36m0\u001b[0m\u001b[0;34m]\u001b[0m\u001b[0;34m,\u001b[0m \u001b[0mlat_shape\u001b[0m\u001b[0;34m)\u001b[0m \u001b[0;34m)\u001b[0m\u001b[0;34m\u001b[0m\u001b[0;34m\u001b[0m\u001b[0m\n",
      "\u001b[0;31mNameError\u001b[0m: name 'make_ham' is not defined"
     ]
    }
   ],
   "source": [
    "# Example usage of the is_physical_state_from_vector function\n",
    "\n",
    "g = 1.\n",
    "lat_shape = (3,3)\n",
    "H = make_ham(g, lat_shape)\n",
    "evals, evecs = eigsh(H, k=2, which='SA')\n",
    "print( is_physical_state_from_vector(evecs[:,0], lat_shape) )\n",
    "print( is_physical_state_from_vector(evecs[:,1], lat_shape) )\n"
   ]
  },
  {
   "cell_type": "code",
   "execution_count": null,
   "id": "33aab566",
   "metadata": {},
   "outputs": [
    {
     "name": "stdout",
     "output_type": "stream",
     "text": [
      "Diagonzalization up to g=1.10 complete.\r"
     ]
    },
    {
     "data": {
      "image/png": "[encoded data removed]",
      "text/plain": [
       "<Figure size 640x480 with 1 Axes>"
      ]
     },
     "metadata": {},
     "output_type": "display_data"
    }
   ],
   "source": [
    "# Plot the low lying spectrum of the Hamiltonian as a function of g, with the unphysical states highlighted\n",
    "def plot_spectrum_with_unphysical_states(gvals, lat_shape, num_evals=10):\n",
    "\n",
    "    offset=0.00\n",
    "\n",
    "    energies = []\n",
    "    # Create a list to store which states are unphysical\n",
    "    unphysical_states = []\n",
    "\n",
    "    for i in range(len(gvals)):\n",
    "        g = gvals[i]\n",
    "        h = make_ham(g, lat_shape, boundary)\n",
    "        evals, evecs = eigsh( h, which='SA', k=num_evals )\n",
    "        energies.append(evals)\n",
    "        # Check if the state is physical and store the result in the list  \n",
    "        for j in range(num_evals):\n",
    "            is_physical = is_physical_state_from_vector(evecs[:,j], lat_shape)\n",
    "            unphysical_states.append((g, j, is_physical))\n",
    "\n",
    "        # show progress\n",
    "        print(f\"Diagonzalization up to g={g:.2f} complete.\", end='\\r')\n",
    "        \n",
    "\n",
    "    #Make plots\n",
    "    fig, ax = plt.subplots()\n",
    "\n",
    "    plt.title(f\"{num_evals} lowest lying energies, lattice shape={lat_shape[0], lat_shape[1]}\") \n",
    "    plt.xlabel(\"g\") \n",
    "    plt.ylabel(\"Spectrum\")\n",
    "\n",
    "    offset=0.0\n",
    "\n",
    "    # Plot the energies, highlighting the unphysical states by checking the unphysical_states list to see if the state is unphysical\n",
    "    for k in range(num_evals):\n",
    "        for i in range(len(gvals)):\n",
    "            g = gvals[i]\n",
    "            if unphysical_states[num_evals*i + k][2] == False:\n",
    "                ax.plot( g, energies[i][k]-energies[i][0]+k*offset, 'ro', markersize=2)\n",
    "            else:\n",
    "                ax.plot( g, energies[i][k]-energies[i][0]+k*offset, 'bo', markersize=2)\n",
    "    # Create a legend\n",
    "    ax.plot([], [], 'ro', label='Unphysical state')\n",
    "    ax.plot([], [], 'bo', label='Physical state')\n",
    "    ax.legend(loc='best')\n",
    "    plt.show()\n",
    "\n",
    "\n",
    "# Example usage\n",
    "gvals = np.linspace(0.75, 1.1, 20)\n",
    "lat_shape = (4, 4)\n",
    "plot_spectrum_with_unphysical_states(gvals, lat_shape, num_evals=30)\n",
    "\n"
   ]
  },
  {
   "cell_type": "code",
   "execution_count": null,
   "id": "493199a3",
   "metadata": {},
   "outputs": [],
   "source": [
    "g = 1.1\n",
    "lat_shape = (4, 4)\n",
    "\n",
    "h = make_ham(g, lat_shape)\n",
    "evals, evecs = eigsh( h, which='SA', k=30 )"
   ]
  },
  {
   "cell_type": "code",
   "execution_count": null,
   "id": "3cdb6a91",
   "metadata": {},
   "outputs": [
    {
     "data": {
      "image/png": "[encoded data removed]",
      "text/plain": [
       "<Figure size 2400x150 with 16 Axes>"
      ]
     },
     "metadata": {},
     "output_type": "display_data"
    }
   ],
   "source": [
    "draw_state( evecs[:,18], lat_shape, max_num_states=20 )"
   ]
  },
  {
   "cell_type": "code",
   "execution_count": null,
   "id": "61beafe9",
   "metadata": {},
   "outputs": [],
   "source": [
    "H = make_ham(1., (3,3))\n",
    "\n",
    "evals, evecs = sparse.linalg.eigsh(H, which=\"SA\", k = 5)"
   ]
  },
  {
   "cell_type": "code",
   "execution_count": null,
   "id": "66a26262",
   "metadata": {},
   "outputs": [
    {
     "data": {
      "text/plain": [
       "-1.3440614971746758"
      ]
     },
     "execution_count": 18,
     "metadata": {},
     "output_type": "execute_result"
    }
   ],
   "source": [
    "get_ground_state_energy(1., (3,3), boundary=\"periodic\", N_colors=3)"
   ]
  },
  {
   "cell_type": "code",
   "execution_count": null,
   "id": "efddf009",
   "metadata": {},
   "outputs": [
    {
     "data": {
      "text/plain": [
       "array([-1.34406150e+00,  7.65563933e-16,  1.85869397e+00,  1.85869397e+00,\n",
       "        1.85869397e+00])"
      ]
     },
     "execution_count": 16,
     "metadata": {},
     "output_type": "execute_result"
    }
   ],
   "source": [
    "evals"
   ]
  },
  {
   "cell_type": "code",
   "execution_count": null,
   "id": "06a50999",
   "metadata": {},
   "outputs": [
    {
     "data": {
      "text/plain": [
       "(512, 512)"
      ]
     },
     "execution_count": 17,
     "metadata": {},
     "output_type": "execute_result"
    }
   ],
   "source": [
    "H.shape"
   ]
  },
  {
   "cell_type": "code",
   "execution_count": null,
   "id": "64edf01c",
   "metadata": {},
   "outputs": [],
   "source": [
    "H_elec = make_electric_ham(1., (3,3), boundary=\"periodic\", N_colors=3)\n",
    "\n",
    "evals, evecs = sparse.linalg.eigsh(H_elec, which=\"SA\", k=20)"
   ]
  }
 ],
 "metadata": {
  "kernelspec": {
   "display_name": "base",
   "language": "python",
   "name": "python3"
  },
  "language_info": {
   "codemirror_mode": {
    "name": "ipython",
    "version": 3
   },
   "file_extension": ".py",
   "mimetype": "text/x-python",
   "name": "python",
   "nbconvert_exporter": "python",
   "pygments_lexer": "ipython3",
   "version": "3.9.13"
  }
 },
 "nbformat": 4,
 "nbformat_minor": 5
}
